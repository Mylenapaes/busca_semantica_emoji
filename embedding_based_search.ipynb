{
 "cells": [
  {
   "cell_type": "code",
   "execution_count": null,
   "metadata": {},
   "outputs": [],
   "source": [
    "#!/usr/bin/env python3\n",
    "import sys\n",
    "import unicodedata"
   ]
  },
  {
   "cell_type": "code",
   "execution_count": null,
   "metadata": {},
   "outputs": [],
   "source": [
    "import numpy as np\n",
    "import pandas as pd\n",
    "from collections import defaultdict, Counter\n",
    "import pickle"
   ]
  },
  {
   "cell_type": "code",
   "execution_count": 525,
   "metadata": {},
   "outputs": [],
   "source": [
    "import emoji as em"
   ]
  },
  {
   "cell_type": "code",
   "execution_count": null,
   "metadata": {},
   "outputs": [],
   "source": [
    "from tqdm.notebook import tqdm"
   ]
  },
  {
   "cell_type": "code",
   "execution_count": null,
   "metadata": {},
   "outputs": [],
   "source": [
    "supported_models = (\n",
    "    pd.DataFrame(TextEmbedding.list_supported_models())\n",
    "    .sort_values(\"size_in_GB\")\n",
    "    .drop(columns=\"sources\")\n",
    "    .reset_index(drop=True)\n",
    ")\n",
    "supported_models\n",
    "\n",
    "\t"
   ]
  },
  {
   "cell_type": "code",
   "execution_count": null,
   "metadata": {},
   "outputs": [],
   "source": [
    "supported_models.loc[9]['model']"
   ]
  },
  {
   "cell_type": "code",
   "execution_count": 510,
   "metadata": {},
   "outputs": [],
   "source": [
    "with open('emoji2dict.pkl', 'rb') as file:\n",
    "    emoji_dict = pickle.load(file)"
   ]
  },
  {
   "cell_type": "code",
   "execution_count": 511,
   "metadata": {},
   "outputs": [],
   "source": [
    "for emoji in emoji_dict:\n",
    "    emoji_dict[emoji]['emoji_char'] = emoji"
   ]
  },
  {
   "cell_type": "code",
   "execution_count": 512,
   "metadata": {},
   "outputs": [
    {
     "data": {
      "text/plain": [
       "'🇦🇽'"
      ]
     },
     "execution_count": 512,
     "metadata": {},
     "output_type": "execute_result"
    }
   ],
   "source": [
    "emoji_dict[emoji]['emoji_char']"
   ]
  },
  {
   "cell_type": "code",
   "execution_count": 513,
   "metadata": {},
   "outputs": [],
   "source": [
    "from qdrant_client import models, QdrantClient\n",
    "from sentence_transformers import SentenceTransformer\n"
   ]
  },
  {
   "cell_type": "code",
   "execution_count": 514,
   "metadata": {},
   "outputs": [
    {
     "name": "stderr",
     "output_type": "stream",
     "text": [
      "/home/badr/anaconda3/envs/emoscope/lib/python3.11/site-packages/huggingface_hub/file_download.py:1132: FutureWarning: `resume_download` is deprecated and will be removed in version 1.0.0. Downloads always resume when possible. If you want to force a new download, use `force_download=True`.\n",
      "  warnings.warn(\n"
     ]
    }
   ],
   "source": [
    "sentence_encoder = SentenceTransformer('paraphrase-multilingual-MiniLM-L12-v2')"
   ]
  },
  {
   "cell_type": "code",
   "execution_count": 515,
   "metadata": {},
   "outputs": [
    {
     "data": {
      "application/vnd.jupyter.widget-view+json": {
       "model_id": "798e023ccc8347ac8e2d25d3c2eb75a6",
       "version_major": 2,
       "version_minor": 0
      },
      "text/plain": [
       "  0%|          | 0/5034 [00:00<?, ?it/s]"
      ]
     },
     "metadata": {},
     "output_type": "display_data"
    }
   ],
   "source": [
    "vector_dict = {}\n",
    "\n",
    "for emoji in tqdm(emoji_dict):\n",
    "    vector_dict[emoji] = sentence_encoder.encode(\n",
    "        emoji_dict[emoji][\"Description\"] + \n",
    "        ' '.join(str(s) for s in emoji_dict[emoji][\"Semantic_Tags\"])\n",
    "    )"
   ]
  },
  {
   "cell_type": "code",
   "execution_count": 516,
   "metadata": {},
   "outputs": [],
   "source": [
    "client = QdrantClient(\":memory:\")"
   ]
  },
  {
   "cell_type": "code",
   "execution_count": 517,
   "metadata": {},
   "outputs": [
    {
     "name": "stderr",
     "output_type": "stream",
     "text": [
      "/tmp/ipykernel_2094853/4046627369.py:1: DeprecationWarning: `recreate_collection` method is deprecated and will be removed in the future. Use `collection_exists` to check collection existence and `create_collection` instead.\n",
      "  client.recreate_collection(\n"
     ]
    },
    {
     "data": {
      "text/plain": [
       "True"
      ]
     },
     "execution_count": 517,
     "metadata": {},
     "output_type": "execute_result"
    }
   ],
   "source": [
    "client.recreate_collection(\n",
    "    collection_name=\"EMOJIS\",\n",
    "    vectors_config=models.VectorParams(\n",
    "        size=sentence_encoder.get_sentence_embedding_dimension(),\n",
    "        distance=models.Distance.COSINE,\n",
    "    ),\n",
    ")\n"
   ]
  },
  {
   "cell_type": "code",
   "execution_count": 519,
   "metadata": {},
   "outputs": [],
   "source": [
    "client.upload_points(\n",
    "    collection_name=\"EMOJIS\",\n",
    "    points=[\n",
    "        models.PointStruct(\n",
    "            id=idx, \n",
    "            vector=vector_dict[emoji].tolist(),\n",
    "            payload=emoji_dict[emoji]\n",
    "        )\n",
    "        for idx, emoji in enumerate(emoji_dict)\n",
    "    ],\n",
    ")"
   ]
  },
  {
   "cell_type": "code",
   "execution_count": 520,
   "metadata": {},
   "outputs": [
    {
     "data": {
      "text/plain": [
       "{'Emoji': '🧬',\n",
       " 'Description': 'This emoji represents DNA, the genetic material found in living organisms, symbolizing the blueprint of life and the basis of heredity and evolution.',\n",
       " 'Semantic_Tags': ['DNA',\n",
       "  'genetics',\n",
       "  'heredity',\n",
       "  'evolution',\n",
       "  'biology',\n",
       "  'molecule',\n",
       "  'science'],\n",
       " 'emoji_char': '🧬'}"
      ]
     },
     "execution_count": 520,
     "metadata": {},
     "output_type": "execute_result"
    }
   ],
   "source": [
    "emoji_dict['🧬']"
   ]
  },
  {
   "cell_type": "code",
   "execution_count": 526,
   "metadata": {},
   "outputs": [],
   "source": [
    "def return_simialr_emojis(query):\n",
    "    hits = client.search(\n",
    "        collection_name=\"EMOJIS\",\n",
    "        query_vector=sentence_encoder.encode(query).tolist(),\n",
    "        limit=40,\n",
    "    )\n",
    "\n",
    "    hit_emojis = set()\n",
    "\n",
    "    for hit in hits:\n",
    "        emoji_char = hit.payload['emoji_char']\n",
    "        score = hit.score\n",
    "\n",
    "        _ord = ''\n",
    "        for c in emoji_char:\n",
    "            _ord += str(ord(c)) + ' '\n",
    "\n",
    "        _spec = len(emoji_char) + 3\n",
    "        unicode_desc = ' '.join(em.demojize(emoji_char).split('_'))[1:-1].upper()\n",
    "\n",
    "        if emoji_char not in hit_emojis: \n",
    "            print(f\"{emoji_char:<{_spec}}\", end='')\n",
    "            print(f\"{score:<7.3f}\", end= '')\n",
    "            print(f\"{unicode_desc:<55}\")\n",
    "                #emoji_char + '\\t' +  , end= '\\n') #, \"score:\", hit.score\n",
    "            #display(Markdown('***{}***'.format(emoji_char)))\n",
    "            \n",
    "        hit_emojis.add(emoji_char)\n",
    "\n",
    "    #     for i in today_links:\n",
    "    # display(Markdown('*{}*'.format(i[0], i[1])))\n",
    "\n",
    "        \n"
   ]
  },
  {
   "cell_type": "code",
   "execution_count": 527,
   "metadata": {},
   "outputs": [
    {
     "name": "stdout",
     "output_type": "stream",
     "text": [
      "🧬   0.484  DNA                                                    \n",
      "👩🏾‍🔬   0.314  WOMAN SCIENTIST MEDIUM-DARK SKIN TONE                  \n",
      "🅾   0.310  O BUTTON (BLOOD TYPE)                                  \n",
      "🅾️   0.310  O BUTTON (BLOOD TYPE)                                  \n",
      "👩‍🔬   0.306  WOMAN SCIENTIST                                        \n",
      "🧪   0.299  TEST TUBE                                              \n",
      "👩🏿‍🔬   0.298  WOMAN SCIENTIST DARK SKIN TONE                         \n",
      "👨‍🔬   0.292  MAN SCIENTIST                                          \n",
      "👩🏽‍🔬   0.289  WOMAN SCIENTIST MEDIUM SKIN TONE                       \n",
      "🅱   0.289  B BUTTON (BLOOD TYPE)                                  \n",
      "👨🏾‍🔬   0.289  MAN SCIENTIST MEDIUM-DARK SKIN TONE                    \n",
      "🅰   0.287  A BUTTON (BLOOD TYPE)                                  \n",
      "👩🏻‍🔬   0.285  WOMAN SCIENTIST LIGHT SKIN TONE                        \n",
      "🧑🏽‍🔬   0.284  SCIENTIST MEDIUM SKIN TONE                             \n",
      "🆎   0.279  AB BUTTON (BLOOD TYPE)                                 \n",
      "👩🏿‍🏭   0.278  WOMAN FACTORY WORKER DARK SKIN TONE                    \n",
      "🥼   0.277  LAB COAT                                               \n",
      "🦠   0.275  MICROBE                                                \n",
      "👩🏾‍🏭   0.272  WOMAN FACTORY WORKER MEDIUM-DARK SKIN TONE             \n",
      "🅰️   0.272  A BUTTON (BLOOD TYPE)                                  \n",
      "👨‍🏭   0.272  MAN FACTORY WORKER                                     \n",
      "🧑🏼‍🔬   0.271  SCIENTIST MEDIUM-LIGHT SKIN TONE                       \n",
      "🧑‍🔬   0.271  SCIENTIST                                              \n",
      "👩🏼‍🔬   0.268  WOMAN SCIENTIST MEDIUM-LIGHT SKIN TONE                 \n",
      "👨🏿‍🔬   0.266  MAN SCIENTIST DARK SKIN TONE                           \n",
      "👨🏽‍🔬   0.266  MAN SCIENTIST MEDIUM SKIN TONE                         \n",
      "👩🏽‍🏭   0.265  WOMAN FACTORY WORKER MEDIUM SKIN TONE                  \n",
      "👩🏽‍💻   0.264  WOMAN TECHNOLOGIST MEDIUM SKIN TONE                    \n",
      "🅱️   0.262  B BUTTON (BLOOD TYPE)                                  \n",
      "🧑🏾‍🔬   0.261  SCIENTIST MEDIUM-DARK SKIN TONE                        \n",
      "🧑🏿‍🔬   0.261  SCIENTIST DARK SKIN TONE                               \n",
      "👨‍💻   0.261  MAN TECHNOLOGIST                                       \n",
      "👩‍💻   0.261  WOMAN TECHNOLOGIST                                     \n",
      "👷🏾‍♀️   0.260  WOMAN CONSTRUCTION WORKER MEDIUM-DARK SKIN TONE        \n",
      "🧑🏾‍🏭   0.260  FACTORY WORKER MEDIUM-DARK SKIN TONE                   \n",
      "🧑🏻‍🔬   0.258  SCIENTIST LIGHT SKIN TONE                              \n",
      "🔬   0.257  MICROSCOPE                                             \n",
      "👩🏻‍🏭   0.255  WOMAN FACTORY WORKER LIGHT SKIN TONE                   \n",
      "🧑🏿‍🏭   0.255  FACTORY WORKER DARK SKIN TONE                          \n",
      "🧑🏻‍🏭   0.252  FACTORY WORKER LIGHT SKIN TONE                         \n"
     ]
    }
   ],
   "source": [
    "return_simialr_emojis(\n",
    "    \"DNA Biologie Labor Forschung\"\n",
    ")"
   ]
  },
  {
   "cell_type": "code",
   "execution_count": 528,
   "metadata": {},
   "outputs": [
    {
     "name": "stdout",
     "output_type": "stream",
     "text": [
      "🧬   0.580  DNA                                                    \n",
      "🦠   0.413  MICROBE                                                \n",
      "👨‍🔬   0.338  MAN SCIENTIST                                          \n",
      "👩🏾‍🔬   0.332  WOMAN SCIENTIST MEDIUM-DARK SKIN TONE                  \n",
      "🧑‍🔬   0.325  SCIENTIST                                              \n",
      "👩‍🔬   0.322  WOMAN SCIENTIST                                        \n",
      "🧑🏽‍🔬   0.311  SCIENTIST MEDIUM SKIN TONE                             \n",
      "🅾   0.304  O BUTTON (BLOOD TYPE)                                  \n",
      "🅾️   0.304  O BUTTON (BLOOD TYPE)                                  \n",
      "👩🏿‍🔬   0.303  WOMAN SCIENTIST DARK SKIN TONE                         \n",
      "🧑🏾‍🔬   0.298  SCIENTIST MEDIUM-DARK SKIN TONE                        \n",
      "🧑🏿‍🔬   0.297  SCIENTIST DARK SKIN TONE                               \n",
      "🅱   0.295  B BUTTON (BLOOD TYPE)                                  \n",
      "🧪   0.291  TEST TUBE                                              \n",
      "👨🏿‍🔬   0.290  MAN SCIENTIST DARK SKIN TONE                           \n",
      "🔬   0.287  MICROSCOPE                                             \n",
      "🅰   0.287  A BUTTON (BLOOD TYPE)                                  \n",
      "👨🏾‍🔬   0.283  MAN SCIENTIST MEDIUM-DARK SKIN TONE                    \n",
      "🆎   0.283  AB BUTTON (BLOOD TYPE)                                 \n",
      "👩🏻‍🔬   0.282  WOMAN SCIENTIST LIGHT SKIN TONE                        \n",
      "🥼   0.281  LAB COAT                                               \n",
      "👩‍👧   0.276  FAMILY WOMAN GIRL                                      \n",
      "🅱️   0.276  B BUTTON (BLOOD TYPE)                                  \n",
      "🧑🏼‍🔬   0.275  SCIENTIST MEDIUM-LIGHT SKIN TONE                       \n",
      "⚗   0.275  ALEMBIC                                                \n",
      "👨‍👦‍👦   0.274  FAMILY MAN BOY BOY                                     \n",
      "🪸   0.270  CORAL                                                  \n",
      "👩🏽‍🔬   0.265  WOMAN SCIENTIST MEDIUM SKIN TONE                       \n",
      "🪺   0.264  NEST WITH EGGS                                         \n",
      "👨🏽‍🔬   0.262  MAN SCIENTIST MEDIUM SKIN TONE                         \n",
      "🧫   0.259  PETRI DISH                                             \n",
      "🅰️   0.259  A BUTTON (BLOOD TYPE)                                  \n",
      "☣️   0.258  BIOHAZARD                                              \n",
      "☣   0.258  BIOHAZARD                                              \n",
      "🧑🏻‍🔬   0.257  SCIENTIST LIGHT SKIN TONE                              \n",
      "👩‍👧‍👧   0.255  FAMILY WOMAN GIRL GIRL                                 \n",
      "🧉   0.250  MATE                                                   \n",
      "👦   0.249  BOY                                                    \n",
      "🫃   0.247  PREGNANT MAN                                           \n",
      "👨‍👧‍👧   0.246  FAMILY MAN GIRL GIRL                                   \n"
     ]
    }
   ],
   "source": [
    "return_simialr_emojis(\n",
    "    \"جينات بيولوجيا بحث\"\n",
    ")"
   ]
  },
  {
   "cell_type": "code",
   "execution_count": 529,
   "metadata": {},
   "outputs": [
    {
     "name": "stdout",
     "output_type": "stream",
     "text": [
      "🪐   0.562  RINGED PLANET                                          \n",
      "🌌   0.518  MILKY WAY                                              \n",
      "👨‍🚀   0.499  MAN ASTRONAUT                                          \n",
      "☄   0.489  COMET                                                  \n",
      "🔭   0.480  TELESCOPE                                              \n",
      "☄️   0.473  COMET                                                  \n",
      "👩‍🚀   0.458  WOMAN ASTRONAUT                                        \n",
      "🧑‍🚀   0.440  ASTRONAUT                                              \n",
      "🧑🏻‍🚀   0.437  ASTRONAUT LIGHT SKIN TONE                              \n",
      "🧑🏽‍🚀   0.422  ASTRONAUT MEDIUM SKIN TONE                             \n",
      "👨🏽‍🚀   0.421  MAN ASTRONAUT MEDIUM SKIN TONE                         \n",
      "🌃   0.420  NIGHT WITH STARS                                       \n",
      "👩🏻‍🚀   0.417  WOMAN ASTRONAUT LIGHT SKIN TONE                        \n",
      "🛰️   0.416  SATELLITE                                              \n",
      "👩🏿‍🚀   0.413  WOMAN ASTRONAUT DARK SKIN TONE                         \n",
      "🛰   0.412  SATELLITE                                              \n",
      "🌒   0.412  WAXING CRESCENT MOON                                   \n",
      "🧑🏾‍🚀   0.412  ASTRONAUT MEDIUM-DARK SKIN TONE                        \n",
      "🌕   0.410  FULL MOON                                              \n",
      "👨🏻‍🚀   0.404  MAN ASTRONAUT LIGHT SKIN TONE                          \n",
      "🧑🏿‍🚀   0.400  ASTRONAUT DARK SKIN TONE                               \n",
      "🌘   0.398  WANING CRESCENT MOON                                   \n",
      "🌔   0.393  WAXING GIBBOUS MOON                                    \n",
      "👨🏼‍🚀   0.391  MAN ASTRONAUT MEDIUM-LIGHT SKIN TONE                   \n",
      "☁   0.387  CLOUD                                                  \n",
      "☁️   0.387  CLOUD                                                  \n",
      "👩🏼‍🚀   0.380  WOMAN ASTRONAUT MEDIUM-LIGHT SKIN TONE                 \n",
      "👨🏾‍🚀   0.375  MAN ASTRONAUT MEDIUM-DARK SKIN TONE                    \n",
      "🌖   0.373  WANING GIBBOUS MOON                                    \n",
      "👩🏾‍🚀   0.366  WOMAN ASTRONAUT MEDIUM-DARK SKIN TONE                  \n",
      "🚀   0.366  ROCKET                                                 \n",
      "🧑🏼‍🚀   0.365  ASTRONAUT MEDIUM-LIGHT SKIN TONE                       \n",
      "🌓   0.364  FIRST QUARTER MOON                                     \n",
      "👨🏿‍🚀   0.362  MAN ASTRONAUT DARK SKIN TONE                           \n",
      "☀   0.361  SUN                                                    \n",
      "☀️   0.361  SUN                                                    \n",
      "👽   0.352  ALIEN                                                  \n",
      "👩🏽‍🚀   0.350  WOMAN ASTRONAUT MEDIUM SKIN TONE                       \n",
      "🌛   0.342  FIRST QUARTER MOON FACE                                \n",
      "🔬   0.341  MICROSCOPE                                             \n"
     ]
    }
   ],
   "source": [
    "return_simialr_emojis(\"علوم الفلك  و الفضاء\")"
   ]
  },
  {
   "cell_type": "code",
   "execution_count": 530,
   "metadata": {},
   "outputs": [
    {
     "name": "stdout",
     "output_type": "stream",
     "text": [
      "🪐   0.479  RINGED PLANET                                          \n",
      "🔭   0.469  TELESCOPE                                              \n",
      "🌌   0.429  MILKY WAY                                              \n",
      "☄️   0.402  COMET                                                  \n",
      "☄   0.397  COMET                                                  \n",
      "👨‍🚀   0.378  MAN ASTRONAUT                                          \n",
      "🔬   0.349  MICROSCOPE                                             \n",
      "🧑‍🚀   0.344  ASTRONAUT                                              \n",
      "🛰️   0.342  SATELLITE                                              \n",
      "🛰   0.341  SATELLITE                                              \n",
      "🧑🏻‍🚀   0.341  ASTRONAUT LIGHT SKIN TONE                              \n",
      "👩🏿‍🚀   0.339  WOMAN ASTRONAUT DARK SKIN TONE                         \n",
      "👩‍🚀   0.339  WOMAN ASTRONAUT                                        \n",
      "🌃   0.332  NIGHT WITH STARS                                       \n",
      "🧑🏾‍🚀   0.329  ASTRONAUT MEDIUM-DARK SKIN TONE                        \n",
      "🧑🏽‍🚀   0.322  ASTRONAUT MEDIUM SKIN TONE                             \n",
      "👩🏻‍🚀   0.320  WOMAN ASTRONAUT LIGHT SKIN TONE                        \n",
      "👨🏽‍🚀   0.319  MAN ASTRONAUT MEDIUM SKIN TONE                         \n",
      "🧑🏿‍🚀   0.319  ASTRONAUT DARK SKIN TONE                               \n",
      "👨🏻‍🚀   0.317  MAN ASTRONAUT LIGHT SKIN TONE                          \n",
      "🌘   0.315  WANING CRESCENT MOON                                   \n",
      "🌒   0.305  WAXING CRESCENT MOON                                   \n",
      "🌔   0.297  WAXING GIBBOUS MOON                                    \n",
      "👨🏼‍🚀   0.294  MAN ASTRONAUT MEDIUM-LIGHT SKIN TONE                   \n",
      "🌕   0.294  FULL MOON                                              \n",
      "👩🏾‍🚀   0.290  WOMAN ASTRONAUT MEDIUM-DARK SKIN TONE                  \n",
      "🔯   0.290  DOTTED SIX-POINTED STAR                                \n",
      "☁️   0.288  CLOUD                                                  \n",
      "☁   0.288  CLOUD                                                  \n",
      "🌥️   0.286  SUN BEHIND LARGE CLOUD                                 \n",
      "👩🏼‍🚀   0.285  WOMAN ASTRONAUT MEDIUM-LIGHT SKIN TONE                 \n",
      "♾   0.284  INFINITY                                               \n",
      "♾️   0.284  INFINITY                                               \n",
      "🌓   0.281  FIRST QUARTER MOON                                     \n",
      "👨🏿‍🚀   0.281  MAN ASTRONAUT DARK SKIN TONE                           \n",
      "🧑🏾‍🔬   0.280  SCIENTIST MEDIUM-DARK SKIN TONE                        \n",
      "👨🏿‍🔬   0.278  MAN SCIENTIST DARK SKIN TONE                           \n",
      "👽   0.275  ALIEN                                                  \n",
      "🌖   0.274  WANING GIBBOUS MOON                                    \n",
      "👨🏾‍🚀   0.274  MAN ASTRONAUT MEDIUM-DARK SKIN TONE                    \n"
     ]
    }
   ],
   "source": [
    "return_simialr_emojis(\"science astronomy space\")"
   ]
  },
  {
   "cell_type": "code",
   "execution_count": 531,
   "metadata": {},
   "outputs": [
    {
     "name": "stdout",
     "output_type": "stream",
     "text": [
      "🎿   0.668  SKIS                                                   \n",
      "🏂🏽   0.658  SNOWBOARDER MEDIUM SKIN TONE                           \n",
      "⛷   0.630  SKIER                                                  \n",
      "⛷️   0.623  SKIER                                                  \n",
      "🏂🏼   0.618  SNOWBOARDER MEDIUM-LIGHT SKIN TONE                     \n",
      "🛷   0.615  SLED                                                   \n",
      "🏂   0.606  SNOWBOARDER                                            \n",
      "🏂🏿   0.602  SNOWBOARDER DARK SKIN TONE                             \n",
      "🏂🏾   0.591  SNOWBOARDER MEDIUM-DARK SKIN TONE                      \n",
      "🏂🏻   0.585  SNOWBOARDER LIGHT SKIN TONE                            \n",
      "☃️   0.581  SNOWMAN                                                \n",
      "☃   0.581  SNOWMAN                                                \n",
      "❄   0.570  SNOWFLAKE                                              \n",
      "⛸   0.555  ICE SKATE                                              \n",
      "⛄   0.533  SNOWMAN WITHOUT SNOW                                   \n",
      "⛸️   0.508  ICE SKATE                                              \n",
      "🏔️   0.496  SNOW-CAPPED MOUNTAIN                                   \n",
      "❄️   0.494  SNOWFLAKE                                              \n",
      "🏔   0.491  SNOW-CAPPED MOUNTAIN                                   \n",
      "🌨   0.473  CLOUD WITH SNOW                                        \n",
      "🥌   0.470  CURLING STONE                                          \n",
      "🌨️   0.462  CLOUD WITH SNOW                                        \n",
      "🐻‍❄️   0.390  POLAR BEAR                                             \n",
      "🐻‍❄   0.390  POLAR BEAR                                             \n",
      "🇦🇩   0.377  ANDORRA                                                \n",
      "🇸🇯   0.377  SVALBARD & JAN MAYEN                                   \n",
      "🚵   0.373  PERSON MOUNTAIN BIKING                                 \n",
      "🚵🏽‍♂️   0.362  MAN MOUNTAIN BIKING MEDIUM SKIN TONE                   \n",
      "🚵🏿‍♂   0.360  MAN MOUNTAIN BIKING DARK SKIN TONE                     \n",
      "🚵🏿‍♂️   0.360  MAN MOUNTAIN BIKING DARK SKIN TONE                     \n",
      "🚵🏼‍♂️   0.356  MAN MOUNTAIN BIKING MEDIUM-LIGHT SKIN TONE             \n",
      "🚵🏾‍♂️   0.355  MAN MOUNTAIN BIKING MEDIUM-DARK SKIN TONE              \n",
      "🚵🏾‍♂   0.355  MAN MOUNTAIN BIKING MEDIUM-DARK SKIN TONE              \n",
      "🏒   0.354  ICE HOCKEY                                             \n",
      "🚵🏽‍♂   0.342  MAN MOUNTAIN BIKING MEDIUM SKIN TONE                   \n",
      "🚵🏻‍♂️   0.334  MAN MOUNTAIN BIKING LIGHT SKIN TONE                    \n",
      "🚵🏻‍♂   0.334  MAN MOUNTAIN BIKING LIGHT SKIN TONE                    \n",
      "🚵‍♂️   0.332  MAN MOUNTAIN BIKING                                    \n",
      "🚵🏿   0.331  PERSON MOUNTAIN BIKING DARK SKIN TONE                  \n",
      "🚵🏼   0.328  PERSON MOUNTAIN BIKING MEDIUM-LIGHT SKIN TONE          \n"
     ]
    }
   ],
   "source": [
    "return_simialr_emojis(\"snow winter sport\")"
   ]
  },
  {
   "cell_type": "code",
   "execution_count": 532,
   "metadata": {},
   "outputs": [
    {
     "name": "stdout",
     "output_type": "stream",
     "text": [
      "😷   0.297  FACE WITH MEDICAL MASK                                 \n",
      "🤒   0.269  FACE WITH THERMOMETER                                  \n",
      "🌪   0.262  TORNADO                                                \n",
      "🌪️   0.262  TORNADO                                                \n",
      "🌩   0.258  CLOUD WITH LIGHTNING                                   \n",
      "🌩️   0.258  CLOUD WITH LIGHTNING                                   \n",
      "🦠   0.247  MICROBE                                                \n",
      "⛈️   0.234  CLOUD WITH LIGHTNING AND RAIN                          \n",
      "🦟   0.231  MOSQUITO                                               \n",
      "⛈   0.230  CLOUD WITH LIGHTNING AND RAIN                          \n",
      "🤮   0.222  FACE VOMITING                                          \n",
      "🌀   0.210  CYCLONE                                                \n",
      "🐅   0.206  TIGER                                                  \n",
      "🦹🏿   0.206  SUPERVILLAIN DARK SKIN TONE                            \n",
      "💉   0.203  SYRINGE                                                \n",
      "🦹‍♂️   0.197  MAN SUPERVILLAIN                                       \n",
      "🤢   0.194  NAUSEATED FACE                                         \n",
      "🥼   0.193  LAB COAT                                               \n",
      "🌁   0.190  FOGGY                                                  \n",
      "🪤   0.189  MOUSE TRAP                                             \n",
      "🐈‍⬛   0.189  BLACK CAT                                              \n",
      "🧑🏼‍⚕️   0.188  HEALTH WORKER MEDIUM-LIGHT SKIN TONE                   \n",
      "🧑🏼‍⚕   0.188  HEALTH WORKER MEDIUM-LIGHT SKIN TONE                   \n",
      "🌨   0.188  CLOUD WITH SNOW                                        \n",
      "🌨️   0.187  CLOUD WITH SNOW                                        \n",
      "🧑🏽‍⚕   0.187  HEALTH WORKER MEDIUM SKIN TONE                         \n",
      "🦹🏽   0.184  SUPERVILLAIN MEDIUM SKIN TONE                          \n",
      "🐆   0.183  LEOPARD                                                \n",
      "🌧️   0.183  CLOUD WITH RAIN                                        \n",
      "🌧   0.183  CLOUD WITH RAIN                                        \n",
      "🦹🏽‍♂️   0.182  MAN SUPERVILLAIN MEDIUM SKIN TONE                      \n",
      "🦹🏾   0.180  SUPERVILLAIN MEDIUM-DARK SKIN TONE                     \n",
      "🦹🏾‍♀   0.179  WOMAN SUPERVILLAIN MEDIUM-DARK SKIN TONE               \n",
      "☣️   0.178  BIOHAZARD                                              \n",
      "☣   0.178  BIOHAZARD                                              \n",
      "🦹🏿‍♀   0.173  WOMAN SUPERVILLAIN DARK SKIN TONE                      \n",
      "🦹🏻‍♂   0.171  MAN SUPERVILLAIN LIGHT SKIN TONE                       \n",
      "🦹🏿‍♂   0.171  MAN SUPERVILLAIN DARK SKIN TONE                        \n",
      "🦹🏼   0.163  SUPERVILLAIN MEDIUM-LIGHT SKIN TONE                    \n",
      "🦹   0.162  SUPERVILLAIN                                           \n"
     ]
    }
   ],
   "source": [
    "return_simialr_emojis(\"virus health pandemic\")\n",
    "# mexican asian french italina food"
   ]
  },
  {
   "cell_type": "code",
   "execution_count": 533,
   "metadata": {},
   "outputs": [
    {
     "name": "stdout",
     "output_type": "stream",
     "text": [
      "🌅   0.443  SUNRISE                                                \n",
      "🥚   0.429  EGG                                                    \n",
      "🌄   0.416  SUNRISE OVER MOUNTAINS                                 \n",
      "👶   0.415  BABY                                                   \n",
      "🌚   0.415  NEW MOON FACE                                          \n",
      "🌱   0.415  SEEDLING                                               \n",
      "🌑   0.388  NEW MOON                                               \n",
      "🔰   0.384  JAPANESE SYMBOL FOR BEGINNER                           \n",
      "🐣   0.377  HATCHING CHICK                                         \n",
      "🚪   0.359  DOOR                                                   \n",
      "🆕   0.332  NEW BUTTON                                             \n",
      "🌼   0.332  BLOSSOM                                                \n",
      "👶🏽   0.329  BABY MEDIUM SKIN TONE                                  \n",
      "👶🏼   0.325  BABY MEDIUM-LIGHT SKIN TONE                            \n",
      "👶🏻   0.324  BABY LIGHT SKIN TONE                                   \n",
      "🌓   0.322  FIRST QUARTER MOON                                     \n",
      "🐤   0.320  BABY CHICK                                             \n",
      "🐥   0.320  FRONT-FACING BABY CHICK                                \n",
      "🍂   0.316  FALLEN LEAF                                            \n",
      "🍃   0.314  LEAF FLUTTERING IN WIND                                \n",
      "🪺   0.308  NEST WITH EGGS                                         \n",
      "👶🏾   0.306  BABY MEDIUM-DARK SKIN TONE                             \n",
      "🐓   0.298  ROOSTER                                                \n",
      "💡   0.282  LIGHT BULB                                             \n",
      "🚼   0.282  BABY SYMBOL                                            \n",
      "💮   0.275  WHITE FLOWER                                           \n",
      "👶🏿   0.274  BABY DARK SKIN TONE                                    \n",
      "🪹   0.270  EMPTY NEST                                             \n",
      "🌒   0.257  WAXING CRESCENT MOON                                   \n",
      "🌋   0.249  VOLCANO                                                \n",
      "🍼   0.246  BABY BOTTLE                                            \n",
      "⚗   0.245  ALEMBIC                                                \n",
      "🐇   0.244  RABBIT                                                 \n",
      "🇳🇨   0.242  NEW CALEDONIA                                          \n",
      "🎬   0.241  CLAPPER BOARD                                          \n",
      "🇵🇬   0.238  PAPUA NEW GUINEA                                       \n",
      "🤰   0.237  PREGNANT WOMAN                                         \n",
      "🏗️   0.234  BUILDING CONSTRUCTION                                  \n",
      "🅰️   0.234  A BUTTON (BLOOD TYPE)                                  \n",
      "🧨   0.233  FIRECRACKER                                            \n"
     ]
    }
   ],
   "source": [
    "return_simialr_emojis(\"new beginnings\")\n",
    "# ambition"
   ]
  },
  {
   "cell_type": "code",
   "execution_count": 561,
   "metadata": {},
   "outputs": [
    {
     "name": "stdout",
     "output_type": "stream",
     "text": [
      "🐈   0.602  CAT                                                    \n",
      "🐆   0.592  LEOPARD                                                \n",
      "😸   0.588  GRINNING CAT WITH SMILING EYES                         \n",
      "😼   0.581  CAT WITH WRY SMILE                                     \n",
      "🐅   0.578  TIGER                                                  \n",
      "🐱   0.568  CAT FACE                                               \n",
      "😻   0.564  SMILING CAT WITH HEART-EYES                            \n",
      "🐈‍⬛   0.559  BLACK CAT                                              \n",
      "😽   0.555  KISSING CAT                                            \n",
      "😺   0.552  GRINNING CAT                                           \n",
      "😹   0.522  CAT WITH TEARS OF JOY                                  \n",
      "😾   0.508  POUTING CAT                                            \n",
      "😿   0.486  CRYING CAT                                             \n",
      "🙀   0.476  WEARY CAT                                              \n",
      "🐹   0.393  HAMSTER                                                \n",
      "🐿   0.392  CHIPMUNK                                               \n",
      "🐿️   0.363  CHIPMUNK                                               \n",
      "🐾   0.363  PAW PRINTS                                             \n",
      "🫎   0.343  MOOSE                                                  \n",
      "🦉   0.331  OWL                                                    \n",
      "🦔   0.329  HEDGEHOG                                               \n",
      "🐁   0.324  MOUSE                                                  \n",
      "🦫   0.323  BEAVER                                                 \n",
      "🐀   0.318  RAT                                                    \n",
      "🦊   0.317  FOX                                                    \n",
      "🦌   0.317  DEER                                                   \n",
      "🦡   0.316  BADGER                                                 \n",
      "🐨   0.315  KOALA                                                  \n",
      "🐻   0.315  BEAR                                                   \n",
      "🐯   0.310  TIGER FACE                                             \n",
      "🐺   0.309  WOLF                                                   \n",
      "🦦   0.307  OTTER                                                  \n",
      "🐻‍❄   0.295  POLAR BEAR                                             \n",
      "🐻‍❄️   0.295  POLAR BEAR                                             \n",
      "🦘   0.290  KANGAROO                                               \n",
      "🐇   0.289  RABBIT                                                 \n",
      "🦨   0.285  SKUNK                                                  \n",
      "🪤   0.283  MOUSE TRAP                                             \n",
      "🦥   0.283  SLOTH                                                  \n",
      "🦠   0.282  MICROBE                                                \n"
     ]
    }
   ],
   "source": [
    "return_simialr_emojis(\" Katze\")\n",
    "# ambition"
   ]
  },
  {
   "cell_type": "code",
   "execution_count": 542,
   "metadata": {},
   "outputs": [
    {
     "name": "stdout",
     "output_type": "stream",
     "text": [
      "🚀   0.356  ROCKET                                                 \n",
      "📈   0.355  CHART INCREASING                                       \n",
      "🌱   0.337  SEEDLING                                               \n",
      "💹   0.336  CHART INCREASING WITH YEN                              \n",
      "🏗️   0.307  BUILDING CONSTRUCTION                                  \n",
      "💸   0.286  MONEY WITH WINGS                                       \n",
      "🧗   0.284  PERSON CLIMBING                                        \n",
      "🚧   0.281  CONSTRUCTION                                           \n",
      "🎯   0.272  BULLSEYE                                               \n",
      "↗️   0.271  UP-RIGHT ARROW                                         \n",
      "🥅   0.271  GOAL NET                                               \n",
      "🏗   0.270  BUILDING CONSTRUCTION                                  \n",
      "↗   0.265  UP-RIGHT ARROW                                         \n",
      "🌟   0.252  GLOWING STAR                                           \n",
      "💯   0.244  HUNDRED POINTS                                         \n",
      "🌼   0.243  BLOSSOM                                                \n",
      "⛹️‍♀   0.241  WOMAN BOUNCING BALL                                    \n",
      "🧗🏽‍♂   0.240  MAN CLIMBING MEDIUM SKIN TONE                          \n",
      "⬆️   0.238  UP ARROW                                               \n",
      "⚒   0.237  HAMMER AND PICK                                        \n",
      "🔜   0.232  SOON ARROW                                             \n",
      "🧗🏾‍♂   0.228  MAN CLIMBING MEDIUM-DARK SKIN TONE                     \n",
      "🏫   0.222  SCHOOL                                                 \n",
      "🧗‍♂   0.217  MAN CLIMBING                                           \n",
      "🔺   0.215  RED TRIANGLE POINTED UP                                \n",
      "💡   0.212  LIGHT BULB                                             \n",
      "🧗🏼‍♂   0.211  MAN CLIMBING MEDIUM-LIGHT SKIN TONE                    \n",
      "🥚   0.209  EGG                                                    \n",
      "🆙   0.205  UP! BUTTON                                             \n",
      "🏃‍♀️   0.201  WOMAN RUNNING                                          \n",
      "⬆   0.200  UP ARROW                                               \n",
      "🥈   0.200  2ND PLACE MEDAL                                        \n",
      "♒   0.194  AQUARIUS                                               \n",
      "🎓   0.192  GRADUATION CAP                                         \n",
      "⤴   0.191  RIGHT ARROW CURVING UP                                 \n",
      "🚶‍♂️   0.190  MAN WALKING                                            \n",
      "🚶‍♂   0.190  MAN WALKING                                            \n",
      "🌠   0.188  SHOOTING STAR                                          \n",
      "💗   0.188  GROWING HEART                                          \n",
      "⤴️   0.187  RIGHT ARROW CURVING UP                                 \n"
     ]
    }
   ],
   "source": [
    "return_simialr_emojis(\"ambition growth success\")"
   ]
  },
  {
   "cell_type": "code",
   "execution_count": 566,
   "metadata": {},
   "outputs": [
    {
     "name": "stdout",
     "output_type": "stream",
     "text": [
      "🦛   0.577  HIPPOPOTAMUS                                           \n",
      "🐿️   0.410  CHIPMUNK                                               \n",
      "🦥   0.405  SLOTH                                                  \n",
      "🐫   0.400  TWO-HUMP CAMEL                                         \n",
      "🐿   0.389  CHIPMUNK                                               \n",
      "♑   0.389  CAPRICORN                                              \n",
      "🐏   0.384  RAM                                                    \n",
      "🐪   0.376  CAMEL                                                  \n",
      "🦓   0.373  ZEBRA                                                  \n",
      "🦕   0.371  SAUROPOD                                               \n",
      "🐸   0.370  FROG                                                   \n",
      "🇸🇹   0.366  SÃO TOMÉ & PRÍNCIPE                                    \n",
      "🪬   0.354  HAMSA                                                  \n",
      "🦔   0.351  HEDGEHOG                                               \n",
      "🇮🇷   0.350  IRAN                                                   \n",
      "🐢   0.349  TURTLE                                                 \n",
      "🇨🇻   0.347  CAPE VERDE                                             \n",
      "🦤   0.346  DODO                                                   \n",
      "🛹   0.343  SKATEBOARD                                             \n",
      "🧆   0.341  FALAFEL                                                \n",
      "🗿   0.340  MOAI                                                   \n",
      "🐹   0.339  HAMSTER                                                \n",
      "🦘   0.339  KANGAROO                                               \n",
      "🇬🇵   0.338  GUADELOUPE                                             \n",
      "🪳   0.337  COCKROACH                                              \n",
      "🩼   0.337  CRUTCH                                                 \n",
      "🎣   0.336  FISHING POLE                                           \n",
      "🇬🇩   0.333  GRENADA                                                \n",
      "♉   0.331  TAURUS                                                 \n",
      "🖖🏽   0.329  VULCAN SALUTE MEDIUM SKIN TONE                         \n",
      "🐊   0.329  CROCODILE                                              \n",
      "🦅   0.324  EAGLE                                                  \n",
      "🪃   0.324  BOOMERANG                                              \n",
      "🇧🇧   0.324  BARBADOS                                               \n",
      "🇲🇱   0.323  MALI                                                   \n",
      "〰   0.323  WAVY DASH                                              \n",
      "〰️   0.323  WAVY DASH                                              \n",
      "🇳🇮   0.323  NICARAGUA                                              \n",
      "🇱🇧   0.322  LEBANON                                                \n",
      "🦎   0.322  LIZARD                                                 \n"
     ]
    }
   ],
   "source": [
    "return_simialr_emojis(\"hippo\")\n",
    "# "
   ]
  },
  {
   "cell_type": "code",
   "execution_count": null,
   "metadata": {},
   "outputs": [],
   "source": []
  }
 ],
 "metadata": {
  "kernelspec": {
   "display_name": "emoscope",
   "language": "python",
   "name": "python3"
  },
  "language_info": {
   "codemirror_mode": {
    "name": "ipython",
    "version": 3
   },
   "file_extension": ".py",
   "mimetype": "text/x-python",
   "name": "python",
   "nbconvert_exporter": "python",
   "pygments_lexer": "ipython3",
   "version": "3.11.9"
  }
 },
 "nbformat": 4,
 "nbformat_minor": 2
}
