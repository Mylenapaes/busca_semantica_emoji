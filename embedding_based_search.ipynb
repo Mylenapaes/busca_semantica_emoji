{
 "cells": [
  {
   "cell_type": "code",
   "execution_count": 1,
   "metadata": {},
   "outputs": [],
   "source": [
    "#!/usr/bin/env python3\n",
    "import sys\n",
    "import unicodedata"
   ]
  },
  {
   "cell_type": "code",
   "execution_count": 2,
   "metadata": {},
   "outputs": [],
   "source": [
    "import numpy as np\n",
    "import pandas as pd\n",
    "from collections import defaultdict, Counter\n",
    "import pickle"
   ]
  },
  {
   "cell_type": "code",
   "execution_count": 167,
   "metadata": {},
   "outputs": [],
   "source": [
    "import emoji"
   ]
  },
  {
   "cell_type": "code",
   "execution_count": 24,
   "metadata": {},
   "outputs": [],
   "source": [
    "from tqdm.notebook import tqdm"
   ]
  },
  {
   "cell_type": "code",
   "execution_count": 4,
   "metadata": {},
   "outputs": [],
   "source": [
    "from fastembed import TextEmbedding"
   ]
  },
  {
   "cell_type": "code",
   "execution_count": 5,
   "metadata": {},
   "outputs": [
    {
     "data": {
      "text/html": [
       "<div>\n",
       "<style scoped>\n",
       "    .dataframe tbody tr th:only-of-type {\n",
       "        vertical-align: middle;\n",
       "    }\n",
       "\n",
       "    .dataframe tbody tr th {\n",
       "        vertical-align: top;\n",
       "    }\n",
       "\n",
       "    .dataframe thead th {\n",
       "        text-align: right;\n",
       "    }\n",
       "</style>\n",
       "<table border=\"1\" class=\"dataframe\">\n",
       "  <thead>\n",
       "    <tr style=\"text-align: right;\">\n",
       "      <th></th>\n",
       "      <th>model</th>\n",
       "      <th>dim</th>\n",
       "      <th>description</th>\n",
       "      <th>size_in_GB</th>\n",
       "      <th>model_file</th>\n",
       "      <th>additional_files</th>\n",
       "    </tr>\n",
       "  </thead>\n",
       "  <tbody>\n",
       "    <tr>\n",
       "      <th>0</th>\n",
       "      <td>BAAI/bge-small-en-v1.5</td>\n",
       "      <td>384</td>\n",
       "      <td>Fast and Default English model</td>\n",
       "      <td>0.067</td>\n",
       "      <td>model_optimized.onnx</td>\n",
       "      <td>NaN</td>\n",
       "    </tr>\n",
       "    <tr>\n",
       "      <th>1</th>\n",
       "      <td>BAAI/bge-small-zh-v1.5</td>\n",
       "      <td>512</td>\n",
       "      <td>Fast and recommended Chinese model</td>\n",
       "      <td>0.090</td>\n",
       "      <td>model_optimized.onnx</td>\n",
       "      <td>NaN</td>\n",
       "    </tr>\n",
       "    <tr>\n",
       "      <th>2</th>\n",
       "      <td>sentence-transformers/all-MiniLM-L6-v2</td>\n",
       "      <td>384</td>\n",
       "      <td>Sentence Transformer model, MiniLM-L6-v2</td>\n",
       "      <td>0.090</td>\n",
       "      <td>model.onnx</td>\n",
       "      <td>NaN</td>\n",
       "    </tr>\n",
       "    <tr>\n",
       "      <th>3</th>\n",
       "      <td>snowflake/snowflake-arctic-embed-xs</td>\n",
       "      <td>384</td>\n",
       "      <td>Based on all-MiniLM-L6-v2 model with only 22m ...</td>\n",
       "      <td>0.090</td>\n",
       "      <td>onnx/model.onnx</td>\n",
       "      <td>NaN</td>\n",
       "    </tr>\n",
       "    <tr>\n",
       "      <th>4</th>\n",
       "      <td>jinaai/jina-embeddings-v2-small-en</td>\n",
       "      <td>512</td>\n",
       "      <td>English embedding model supporting 8192 sequen...</td>\n",
       "      <td>0.120</td>\n",
       "      <td>onnx/model.onnx</td>\n",
       "      <td>NaN</td>\n",
       "    </tr>\n",
       "    <tr>\n",
       "      <th>5</th>\n",
       "      <td>snowflake/snowflake-arctic-embed-s</td>\n",
       "      <td>384</td>\n",
       "      <td>Based on infloat/e5-small-unsupervised, does n...</td>\n",
       "      <td>0.130</td>\n",
       "      <td>onnx/model.onnx</td>\n",
       "      <td>NaN</td>\n",
       "    </tr>\n",
       "    <tr>\n",
       "      <th>6</th>\n",
       "      <td>BAAI/bge-small-en</td>\n",
       "      <td>384</td>\n",
       "      <td>Fast English model</td>\n",
       "      <td>0.130</td>\n",
       "      <td>model_optimized.onnx</td>\n",
       "      <td>NaN</td>\n",
       "    </tr>\n",
       "    <tr>\n",
       "      <th>7</th>\n",
       "      <td>nomic-ai/nomic-embed-text-v1.5-Q</td>\n",
       "      <td>768</td>\n",
       "      <td>Quantized 8192 context length english model</td>\n",
       "      <td>0.130</td>\n",
       "      <td>onnx/model_quantized.onnx</td>\n",
       "      <td>NaN</td>\n",
       "    </tr>\n",
       "    <tr>\n",
       "      <th>8</th>\n",
       "      <td>BAAI/bge-base-en-v1.5</td>\n",
       "      <td>768</td>\n",
       "      <td>Base English model, v1.5</td>\n",
       "      <td>0.210</td>\n",
       "      <td>model_optimized.onnx</td>\n",
       "      <td>NaN</td>\n",
       "    </tr>\n",
       "    <tr>\n",
       "      <th>9</th>\n",
       "      <td>sentence-transformers/paraphrase-multilingual-...</td>\n",
       "      <td>384</td>\n",
       "      <td>Sentence Transformer model, paraphrase-multili...</td>\n",
       "      <td>0.220</td>\n",
       "      <td>model_optimized.onnx</td>\n",
       "      <td>NaN</td>\n",
       "    </tr>\n",
       "    <tr>\n",
       "      <th>10</th>\n",
       "      <td>Qdrant/clip-ViT-B-32-text</td>\n",
       "      <td>512</td>\n",
       "      <td>CLIP text encoder</td>\n",
       "      <td>0.250</td>\n",
       "      <td>model.onnx</td>\n",
       "      <td>NaN</td>\n",
       "    </tr>\n",
       "    <tr>\n",
       "      <th>11</th>\n",
       "      <td>BAAI/bge-base-en</td>\n",
       "      <td>768</td>\n",
       "      <td>Base English model</td>\n",
       "      <td>0.420</td>\n",
       "      <td>model_optimized.onnx</td>\n",
       "      <td>NaN</td>\n",
       "    </tr>\n",
       "    <tr>\n",
       "      <th>12</th>\n",
       "      <td>snowflake/snowflake-arctic-embed-m</td>\n",
       "      <td>768</td>\n",
       "      <td>Based on intfloat/e5-base-unsupervised model, ...</td>\n",
       "      <td>0.430</td>\n",
       "      <td>onnx/model.onnx</td>\n",
       "      <td>NaN</td>\n",
       "    </tr>\n",
       "    <tr>\n",
       "      <th>13</th>\n",
       "      <td>nomic-ai/nomic-embed-text-v1</td>\n",
       "      <td>768</td>\n",
       "      <td>8192 context length english model</td>\n",
       "      <td>0.520</td>\n",
       "      <td>onnx/model.onnx</td>\n",
       "      <td>NaN</td>\n",
       "    </tr>\n",
       "    <tr>\n",
       "      <th>14</th>\n",
       "      <td>jinaai/jina-embeddings-v2-base-en</td>\n",
       "      <td>768</td>\n",
       "      <td>English embedding model supporting 8192 sequen...</td>\n",
       "      <td>0.520</td>\n",
       "      <td>onnx/model.onnx</td>\n",
       "      <td>NaN</td>\n",
       "    </tr>\n",
       "    <tr>\n",
       "      <th>15</th>\n",
       "      <td>nomic-ai/nomic-embed-text-v1.5</td>\n",
       "      <td>768</td>\n",
       "      <td>8192 context length english model</td>\n",
       "      <td>0.520</td>\n",
       "      <td>onnx/model.onnx</td>\n",
       "      <td>NaN</td>\n",
       "    </tr>\n",
       "    <tr>\n",
       "      <th>16</th>\n",
       "      <td>snowflake/snowflake-arctic-embed-m-long</td>\n",
       "      <td>768</td>\n",
       "      <td>Based on nomic-ai/nomic-embed-text-v1-unsuperv...</td>\n",
       "      <td>0.540</td>\n",
       "      <td>onnx/model.onnx</td>\n",
       "      <td>NaN</td>\n",
       "    </tr>\n",
       "    <tr>\n",
       "      <th>17</th>\n",
       "      <td>mixedbread-ai/mxbai-embed-large-v1</td>\n",
       "      <td>1024</td>\n",
       "      <td>MixedBread Base sentence embedding model, does...</td>\n",
       "      <td>0.640</td>\n",
       "      <td>onnx/model.onnx</td>\n",
       "      <td>NaN</td>\n",
       "    </tr>\n",
       "    <tr>\n",
       "      <th>18</th>\n",
       "      <td>sentence-transformers/paraphrase-multilingual-...</td>\n",
       "      <td>768</td>\n",
       "      <td>Sentence-transformers model for tasks like clu...</td>\n",
       "      <td>1.000</td>\n",
       "      <td>onnx/model.onnx</td>\n",
       "      <td>NaN</td>\n",
       "    </tr>\n",
       "    <tr>\n",
       "      <th>19</th>\n",
       "      <td>snowflake/snowflake-arctic-embed-l</td>\n",
       "      <td>1024</td>\n",
       "      <td>Based on intfloat/e5-large-unsupervised, large...</td>\n",
       "      <td>1.020</td>\n",
       "      <td>onnx/model.onnx</td>\n",
       "      <td>NaN</td>\n",
       "    </tr>\n",
       "    <tr>\n",
       "      <th>20</th>\n",
       "      <td>BAAI/bge-large-en-v1.5</td>\n",
       "      <td>1024</td>\n",
       "      <td>Large English model, v1.5</td>\n",
       "      <td>1.200</td>\n",
       "      <td>model.onnx</td>\n",
       "      <td>NaN</td>\n",
       "    </tr>\n",
       "    <tr>\n",
       "      <th>21</th>\n",
       "      <td>thenlper/gte-large</td>\n",
       "      <td>1024</td>\n",
       "      <td>Large general text embeddings model</td>\n",
       "      <td>1.200</td>\n",
       "      <td>model.onnx</td>\n",
       "      <td>NaN</td>\n",
       "    </tr>\n",
       "    <tr>\n",
       "      <th>22</th>\n",
       "      <td>intfloat/multilingual-e5-large</td>\n",
       "      <td>1024</td>\n",
       "      <td>Multilingual model, e5-large. Recommend using ...</td>\n",
       "      <td>2.240</td>\n",
       "      <td>model.onnx</td>\n",
       "      <td>[model.onnx_data]</td>\n",
       "    </tr>\n",
       "  </tbody>\n",
       "</table>\n",
       "</div>"
      ],
      "text/plain": [
       "                                                model   dim  \\\n",
       "0                              BAAI/bge-small-en-v1.5   384   \n",
       "1                              BAAI/bge-small-zh-v1.5   512   \n",
       "2              sentence-transformers/all-MiniLM-L6-v2   384   \n",
       "3                 snowflake/snowflake-arctic-embed-xs   384   \n",
       "4                  jinaai/jina-embeddings-v2-small-en   512   \n",
       "5                  snowflake/snowflake-arctic-embed-s   384   \n",
       "6                                   BAAI/bge-small-en   384   \n",
       "7                    nomic-ai/nomic-embed-text-v1.5-Q   768   \n",
       "8                               BAAI/bge-base-en-v1.5   768   \n",
       "9   sentence-transformers/paraphrase-multilingual-...   384   \n",
       "10                          Qdrant/clip-ViT-B-32-text   512   \n",
       "11                                   BAAI/bge-base-en   768   \n",
       "12                 snowflake/snowflake-arctic-embed-m   768   \n",
       "13                       nomic-ai/nomic-embed-text-v1   768   \n",
       "14                  jinaai/jina-embeddings-v2-base-en   768   \n",
       "15                     nomic-ai/nomic-embed-text-v1.5   768   \n",
       "16            snowflake/snowflake-arctic-embed-m-long   768   \n",
       "17                 mixedbread-ai/mxbai-embed-large-v1  1024   \n",
       "18  sentence-transformers/paraphrase-multilingual-...   768   \n",
       "19                 snowflake/snowflake-arctic-embed-l  1024   \n",
       "20                             BAAI/bge-large-en-v1.5  1024   \n",
       "21                                 thenlper/gte-large  1024   \n",
       "22                     intfloat/multilingual-e5-large  1024   \n",
       "\n",
       "                                          description  size_in_GB  \\\n",
       "0                      Fast and Default English model       0.067   \n",
       "1                  Fast and recommended Chinese model       0.090   \n",
       "2            Sentence Transformer model, MiniLM-L6-v2       0.090   \n",
       "3   Based on all-MiniLM-L6-v2 model with only 22m ...       0.090   \n",
       "4   English embedding model supporting 8192 sequen...       0.120   \n",
       "5   Based on infloat/e5-small-unsupervised, does n...       0.130   \n",
       "6                                  Fast English model       0.130   \n",
       "7         Quantized 8192 context length english model       0.130   \n",
       "8                            Base English model, v1.5       0.210   \n",
       "9   Sentence Transformer model, paraphrase-multili...       0.220   \n",
       "10                                  CLIP text encoder       0.250   \n",
       "11                                 Base English model       0.420   \n",
       "12  Based on intfloat/e5-base-unsupervised model, ...       0.430   \n",
       "13                  8192 context length english model       0.520   \n",
       "14  English embedding model supporting 8192 sequen...       0.520   \n",
       "15                  8192 context length english model       0.520   \n",
       "16  Based on nomic-ai/nomic-embed-text-v1-unsuperv...       0.540   \n",
       "17  MixedBread Base sentence embedding model, does...       0.640   \n",
       "18  Sentence-transformers model for tasks like clu...       1.000   \n",
       "19  Based on intfloat/e5-large-unsupervised, large...       1.020   \n",
       "20                          Large English model, v1.5       1.200   \n",
       "21                Large general text embeddings model       1.200   \n",
       "22  Multilingual model, e5-large. Recommend using ...       2.240   \n",
       "\n",
       "                   model_file   additional_files  \n",
       "0        model_optimized.onnx                NaN  \n",
       "1        model_optimized.onnx                NaN  \n",
       "2                  model.onnx                NaN  \n",
       "3             onnx/model.onnx                NaN  \n",
       "4             onnx/model.onnx                NaN  \n",
       "5             onnx/model.onnx                NaN  \n",
       "6        model_optimized.onnx                NaN  \n",
       "7   onnx/model_quantized.onnx                NaN  \n",
       "8        model_optimized.onnx                NaN  \n",
       "9        model_optimized.onnx                NaN  \n",
       "10                 model.onnx                NaN  \n",
       "11       model_optimized.onnx                NaN  \n",
       "12            onnx/model.onnx                NaN  \n",
       "13            onnx/model.onnx                NaN  \n",
       "14            onnx/model.onnx                NaN  \n",
       "15            onnx/model.onnx                NaN  \n",
       "16            onnx/model.onnx                NaN  \n",
       "17            onnx/model.onnx                NaN  \n",
       "18            onnx/model.onnx                NaN  \n",
       "19            onnx/model.onnx                NaN  \n",
       "20                 model.onnx                NaN  \n",
       "21                 model.onnx                NaN  \n",
       "22                 model.onnx  [model.onnx_data]  "
      ]
     },
     "execution_count": 5,
     "metadata": {},
     "output_type": "execute_result"
    }
   ],
   "source": [
    "supported_models = (\n",
    "    pd.DataFrame(TextEmbedding.list_supported_models())\n",
    "    .sort_values(\"size_in_GB\")\n",
    "    .drop(columns=\"sources\")\n",
    "    .reset_index(drop=True)\n",
    ")\n",
    "supported_models\n",
    "\n",
    "\t"
   ]
  },
  {
   "cell_type": "code",
   "execution_count": 6,
   "metadata": {},
   "outputs": [
    {
     "data": {
      "text/plain": [
       "'sentence-transformers/paraphrase-multilingual-MiniLM-L12-v2'"
      ]
     },
     "execution_count": 6,
     "metadata": {},
     "output_type": "execute_result"
    }
   ],
   "source": [
    "supported_models.loc[9]['model']"
   ]
  },
  {
   "cell_type": "code",
   "execution_count": 7,
   "metadata": {},
   "outputs": [],
   "source": [
    "with open('emoji2dict.pkl', 'rb') as file:\n",
    "    emoji_dict = pickle.load(file)"
   ]
  },
  {
   "cell_type": "code",
   "execution_count": 8,
   "metadata": {},
   "outputs": [],
   "source": [
    "for emoji in emoji_dict:\n",
    "    emoji_dict[emoji]['emoji_cahr'] = emoji"
   ]
  },
  {
   "cell_type": "code",
   "execution_count": 9,
   "metadata": {},
   "outputs": [
    {
     "data": {
      "text/plain": [
       "'🇦🇽'"
      ]
     },
     "execution_count": 9,
     "metadata": {},
     "output_type": "execute_result"
    }
   ],
   "source": [
    "emoji_dict[emoji]['emoji_cahr']"
   ]
  },
  {
   "cell_type": "code",
   "execution_count": 10,
   "metadata": {},
   "outputs": [],
   "source": [
    "from qdrant_client import models, QdrantClient\n",
    "from sentence_transformers import SentenceTransformer\n"
   ]
  },
  {
   "cell_type": "code",
   "execution_count": 11,
   "metadata": {},
   "outputs": [
    {
     "name": "stderr",
     "output_type": "stream",
     "text": [
      "/home/badr/anaconda3/envs/emoscope/lib/python3.11/site-packages/huggingface_hub/file_download.py:1132: FutureWarning: `resume_download` is deprecated and will be removed in version 1.0.0. Downloads always resume when possible. If you want to force a new download, use `force_download=True`.\n",
      "  warnings.warn(\n"
     ]
    }
   ],
   "source": [
    "sentence_encoder = SentenceTransformer('paraphrase-multilingual-MiniLM-L12-v2')"
   ]
  },
  {
   "cell_type": "code",
   "execution_count": 12,
   "metadata": {},
   "outputs": [],
   "source": [
    "client = QdrantClient(\":memory:\")"
   ]
  },
  {
   "cell_type": "code",
   "execution_count": 13,
   "metadata": {},
   "outputs": [
    {
     "name": "stderr",
     "output_type": "stream",
     "text": [
      "/tmp/ipykernel_2094853/4046627369.py:1: DeprecationWarning: `recreate_collection` method is deprecated and will be removed in the future. Use `collection_exists` to check collection existence and `create_collection` instead.\n",
      "  client.recreate_collection(\n"
     ]
    },
    {
     "data": {
      "text/plain": [
       "True"
      ]
     },
     "execution_count": 13,
     "metadata": {},
     "output_type": "execute_result"
    }
   ],
   "source": [
    "client.recreate_collection(\n",
    "    collection_name=\"EMOJIS\",\n",
    "    vectors_config=models.VectorParams(\n",
    "        size=sentence_encoder.get_sentence_embedding_dimension(),\n",
    "        distance=models.Distance.COSINE,\n",
    "    ),\n",
    ")\n"
   ]
  },
  {
   "cell_type": "code",
   "execution_count": 409,
   "metadata": {},
   "outputs": [
    {
     "data": {
      "application/vnd.jupyter.widget-view+json": {
       "model_id": "8fa29ea6026f42ef8084dc4582040d48",
       "version_major": 2,
       "version_minor": 0
      },
      "text/plain": [
       "Embedding emoji descriptions:   0%|          | 0/5034 [00:00<?, ?it/s]"
      ]
     },
     "metadata": {},
     "output_type": "display_data"
    }
   ],
   "source": [
    "client.upload_points(\n",
    "    collection_name=\"EMOJIS\",\n",
    "    points=[\n",
    "        models.PointStruct(\n",
    "            id=idx, \n",
    "            vector=sentence_encoder.encode(\n",
    "                info[\"Description\"] + \n",
    "                ' '.join(str(s) for s in info[\"Semantic_Tags\"]) \n",
    "            ).tolist(),\n",
    "            payload=emoji_dict[emoji]\n",
    "        )\n",
    "        for idx, (emoji, info) in tqdm(\n",
    "            enumerate(emoji_dict.items()), \n",
    "            total=len(emoji_dict),\n",
    "            desc=\"Embedding emoji descriptions\",\n",
    "            #ncols=100       \n",
    "        )\n",
    "    ],\n",
    ")"
   ]
  },
  {
   "cell_type": "code",
   "execution_count": 414,
   "metadata": {},
   "outputs": [],
   "source": [
    "def return_simialr_emojis(query):\n",
    "    hits = client.search(\n",
    "        collection_name=\"EMOJIS\",\n",
    "        query_vector=sentence_encoder.encode(query).tolist(),\n",
    "        limit=40,\n",
    "    )\n",
    "\n",
    "    hit_emojis = set()\n",
    "\n",
    "    for hit in hits:\n",
    "        emoji_char = hit.payload['emoji_cahr']\n",
    "        score = hit.score\n",
    "\n",
    "        _ord = ''\n",
    "        for c in emoji_char:\n",
    "            _ord += str(ord(c)) + ' '\n",
    "\n",
    "        _spec = len(emoji_char) + 3\n",
    "\n",
    "        if emoji_char not in hit_emojis: \n",
    "            print(f\"{emoji_char:<{_spec}}{score:<7.3f}{emoji.demojize(emoji_char):<55}\")\n",
    "                #emoji_char + '\\t' +  , end= '\\n') #, \"score:\", hit.score\n",
    "            #display(Markdown('***{}***'.format(emoji_char)))\n",
    "            \n",
    "        hit_emojis.add(emoji_char)\n",
    "\n",
    "    #     for i in today_links:\n",
    "    # display(Markdown('*{}*'.format(i[0], i[1])))\n",
    "\n",
    "        \n"
   ]
  },
  {
   "cell_type": "code",
   "execution_count": 415,
   "metadata": {},
   "outputs": [
    {
     "name": "stdout",
     "output_type": "stream",
     "text": [
      "🧬   0.484  :dna:                                                  \n",
      "👩🏾‍🔬   0.314  :woman_scientist_medium-dark_skin_tone:                \n",
      "🅾   0.310  :O_button_(blood_type):                                \n",
      "🅾️   0.310  :O_button_(blood_type):                                \n",
      "👩‍🔬   0.306  :woman_scientist:                                      \n",
      "🧪   0.299  :test_tube:                                            \n",
      "👩🏿‍🔬   0.298  :woman_scientist_dark_skin_tone:                       \n",
      "👨‍🔬   0.292  :man_scientist:                                        \n",
      "👩🏽‍🔬   0.289  :woman_scientist_medium_skin_tone:                     \n",
      "🅱   0.289  :B_button_(blood_type):                                \n",
      "👨🏾‍🔬   0.289  :man_scientist_medium-dark_skin_tone:                  \n",
      "🅰   0.287  :A_button_(blood_type):                                \n",
      "👩🏻‍🔬   0.285  :woman_scientist_light_skin_tone:                      \n",
      "🧑🏽‍🔬   0.284  :scientist_medium_skin_tone:                           \n",
      "🆎   0.279  :AB_button_(blood_type):                               \n",
      "👩🏿‍🏭   0.278  :woman_factory_worker_dark_skin_tone:                  \n",
      "🥼   0.277  :lab_coat:                                             \n",
      "🦠   0.275  :microbe:                                              \n",
      "👩🏾‍🏭   0.272  :woman_factory_worker_medium-dark_skin_tone:           \n",
      "🅰️   0.272  :A_button_(blood_type):                                \n",
      "👨‍🏭   0.272  :man_factory_worker:                                   \n",
      "🧑🏼‍🔬   0.271  :scientist_medium-light_skin_tone:                     \n",
      "🧑‍🔬   0.271  :scientist:                                            \n",
      "👩🏼‍🔬   0.268  :woman_scientist_medium-light_skin_tone:               \n",
      "👨🏿‍🔬   0.266  :man_scientist_dark_skin_tone:                         \n",
      "👨🏽‍🔬   0.266  :man_scientist_medium_skin_tone:                       \n",
      "👩🏽‍🏭   0.265  :woman_factory_worker_medium_skin_tone:                \n",
      "👩🏽‍💻   0.264  :woman_technologist_medium_skin_tone:                  \n",
      "🅱️   0.262  :B_button_(blood_type):                                \n",
      "🧑🏾‍🔬   0.261  :scientist_medium-dark_skin_tone:                      \n",
      "🧑🏿‍🔬   0.261  :scientist_dark_skin_tone:                             \n",
      "👨‍💻   0.261  :man_technologist:                                     \n",
      "👩‍💻   0.261  :woman_technologist:                                   \n",
      "👷🏾‍♀️   0.260  :woman_construction_worker_medium-dark_skin_tone:      \n",
      "🧑🏾‍🏭   0.260  :factory_worker_medium-dark_skin_tone:                 \n",
      "🧑🏻‍🔬   0.258  :scientist_light_skin_tone:                            \n",
      "🔬   0.257  :microscope:                                           \n",
      "👩🏻‍🏭   0.255  :woman_factory_worker_light_skin_tone:                 \n",
      "🧑🏿‍🏭   0.255  :factory_worker_dark_skin_tone:                        \n",
      "🧑🏻‍🏭   0.252  :factory_worker_light_skin_tone:                       \n"
     ]
    }
   ],
   "source": [
    "return_simialr_emojis(\n",
    "    \"DNA Biologie Labor Forschung\"\n",
    ")"
   ]
  },
  {
   "cell_type": "code",
   "execution_count": 416,
   "metadata": {},
   "outputs": [
    {
     "name": "stdout",
     "output_type": "stream",
     "text": [
      "🧬   0.580  :dna:                                                  \n",
      "🦠   0.413  :microbe:                                              \n",
      "👨‍🔬   0.338  :man_scientist:                                        \n",
      "👩🏾‍🔬   0.332  :woman_scientist_medium-dark_skin_tone:                \n",
      "🧑‍🔬   0.325  :scientist:                                            \n",
      "👩‍🔬   0.322  :woman_scientist:                                      \n",
      "🧑🏽‍🔬   0.311  :scientist_medium_skin_tone:                           \n",
      "🅾   0.304  :O_button_(blood_type):                                \n",
      "🅾️   0.304  :O_button_(blood_type):                                \n",
      "👩🏿‍🔬   0.303  :woman_scientist_dark_skin_tone:                       \n",
      "🧑🏾‍🔬   0.298  :scientist_medium-dark_skin_tone:                      \n",
      "🧑🏿‍🔬   0.297  :scientist_dark_skin_tone:                             \n",
      "🅱   0.295  :B_button_(blood_type):                                \n",
      "🧪   0.291  :test_tube:                                            \n",
      "👨🏿‍🔬   0.290  :man_scientist_dark_skin_tone:                         \n",
      "🔬   0.287  :microscope:                                           \n",
      "🅰   0.287  :A_button_(blood_type):                                \n",
      "👨🏾‍🔬   0.283  :man_scientist_medium-dark_skin_tone:                  \n",
      "🆎   0.283  :AB_button_(blood_type):                               \n",
      "👩🏻‍🔬   0.282  :woman_scientist_light_skin_tone:                      \n",
      "🥼   0.281  :lab_coat:                                             \n",
      "👩‍👧   0.276  :family_woman_girl:                                    \n",
      "🅱️   0.276  :B_button_(blood_type):                                \n",
      "🧑🏼‍🔬   0.275  :scientist_medium-light_skin_tone:                     \n",
      "⚗   0.275  :alembic:                                              \n",
      "👨‍👦‍👦   0.274  :family_man_boy_boy:                                   \n",
      "🪸   0.270  :coral:                                                \n",
      "👩🏽‍🔬   0.265  :woman_scientist_medium_skin_tone:                     \n",
      "🪺   0.264  :nest_with_eggs:                                       \n",
      "👨🏽‍🔬   0.262  :man_scientist_medium_skin_tone:                       \n",
      "🧫   0.259  :petri_dish:                                           \n",
      "🅰️   0.259  :A_button_(blood_type):                                \n",
      "☣️   0.258  :biohazard:                                            \n",
      "☣   0.258  :biohazard:                                            \n",
      "🧑🏻‍🔬   0.257  :scientist_light_skin_tone:                            \n",
      "👩‍👧‍👧   0.255  :family_woman_girl_girl:                               \n",
      "🧉   0.250  :mate:                                                 \n",
      "👦   0.249  :boy:                                                  \n",
      "🫃   0.247  :pregnant_man:                                         \n",
      "👨‍👧‍👧   0.246  :family_man_girl_girl:                                 \n"
     ]
    }
   ],
   "source": [
    "return_simialr_emojis(\n",
    "    \"جينات بيولوجيا بحث\"\n",
    ")"
   ]
  },
  {
   "cell_type": "code",
   "execution_count": 331,
   "metadata": {},
   "outputs": [
    {
     "name": "stdout",
     "output_type": "stream",
     "text": [
      "🪐   0.710     :ringed_planet:                                        \n",
      "🔭   0.662     :telescope:                                            \n",
      "🌌   0.652     :milky_way:                                            \n",
      "🧑‍🚀   0.638     :astronaut:                                            \n",
      "👨‍🚀   0.612     :man_astronaut:                                        \n",
      "☄   0.593     :comet:                                                \n",
      "☄️   0.566     :comet:                                                \n",
      "🧑🏾‍🚀   0.563     :astronaut_medium-dark_skin_tone:                      \n",
      "👩‍🚀   0.553     :woman_astronaut:                                      \n",
      "👨🏻‍🚀   0.552     :man_astronaut_light_skin_tone:                        \n",
      "🌒   0.542     :waxing_crescent_moon:                                 \n",
      "👽   0.541     :alien:                                                \n",
      "🧑🏿‍🚀   0.527     :astronaut_dark_skin_tone:                             \n",
      "🧑🏻‍🚀   0.521     :astronaut_light_skin_tone:                            \n",
      "👨🏼‍🚀   0.518     :man_astronaut_medium-light_skin_tone:                 \n",
      "🌘   0.514     :waning_crescent_moon:                                 \n",
      "🧑🏼‍🚀   0.509     :astronaut_medium-light_skin_tone:                     \n",
      "👩🏿‍🚀   0.508     :woman_astronaut_dark_skin_tone:                       \n",
      "🌔   0.505     :waxing_gibbous_moon:                                  \n",
      "🌛   0.503     :first_quarter_moon_face:                              \n",
      "🛸   0.501     :flying_saucer:                                        \n",
      "🧑🏽‍🚀   0.500     :astronaut_medium_skin_tone:                           \n",
      "👨🏾‍🚀   0.491     :man_astronaut_medium-dark_skin_tone:                  \n",
      "👩🏻‍🚀   0.488     :woman_astronaut_light_skin_tone:                      \n",
      "👨🏽‍🚀   0.487     :man_astronaut_medium_skin_tone:                       \n",
      "⭐   0.486     :star:                                                 \n",
      "🛰️   0.484     :satellite:                                            \n",
      "🛰   0.484     :satellite:                                            \n",
      "⛎   0.481     :Ophiuchus:                                            \n",
      "💫   0.473     :dizzy:                                                \n",
      "♑   0.463     :Capricorn:                                            \n",
      "🌕   0.462     :full_moon:                                            \n",
      "♎   0.460     :Libra:                                                \n",
      "🌃   0.458     :night_with_stars:                                     \n",
      "👨🏿‍🚀   0.449     :man_astronaut_dark_skin_tone:                         \n",
      "👩🏾‍🚀   0.446     :woman_astronaut_medium-dark_skin_tone:                \n",
      "🔯   0.445     :dotted_six-pointed_star:                              \n",
      "♐   0.444     :Sagittarius:                                          \n",
      "♊   0.442     :Gemini:                                               \n",
      "👩🏽‍🚀   0.430     :woman_astronaut_medium_skin_tone:                     \n"
     ]
    }
   ],
   "source": [
    "return_simialr_emojis(\"علوم الفلك  و الفضاء\")"
   ]
  },
  {
   "cell_type": "code",
   "execution_count": 332,
   "metadata": {},
   "outputs": [
    {
     "name": "stdout",
     "output_type": "stream",
     "text": [
      "🔭   0.711     :telescope:                                            \n",
      "🪐   0.683     :ringed_planet:                                        \n",
      "🌌   0.622     :milky_way:                                            \n",
      "☄️   0.565     :comet:                                                \n",
      "☄   0.549     :comet:                                                \n",
      "🧑‍🚀   0.544     :astronaut:                                            \n",
      "👨‍🚀   0.520     :man_astronaut:                                        \n",
      "🌒   0.489     :waxing_crescent_moon:                                 \n",
      "🧑🏾‍🚀   0.480     :astronaut_medium-dark_skin_tone:                      \n",
      "👨🏻‍🚀   0.473     :man_astronaut_light_skin_tone:                        \n",
      "🛰️   0.471     :satellite:                                            \n",
      "🛰   0.471     :satellite:                                            \n",
      "🌘   0.471     :waning_crescent_moon:                                 \n",
      "👩🏿‍🚀   0.471     :woman_astronaut_dark_skin_tone:                       \n",
      "🧑🏻‍🚀   0.468     :astronaut_light_skin_tone:                            \n",
      "👩‍🚀   0.459     :woman_astronaut:                                      \n",
      "🌔   0.458     :waxing_gibbous_moon:                                  \n",
      "🧑🏿‍🚀   0.451     :astronaut_dark_skin_tone:                             \n",
      "👨🏼‍🚀   0.444     :man_astronaut_medium-light_skin_tone:                 \n",
      "👨🏾‍🚀   0.438     :man_astronaut_medium-dark_skin_tone:                  \n",
      "👽   0.436     :alien:                                                \n",
      "🧑🏽‍🚀   0.436     :astronaut_medium_skin_tone:                           \n",
      "🌛   0.420     :first_quarter_moon_face:                              \n",
      "👩🏻‍🚀   0.410     :woman_astronaut_light_skin_tone:                      \n",
      "👩🏾‍🚀   0.407     :woman_astronaut_medium-dark_skin_tone:                \n",
      "👨🏽‍🚀   0.404     :man_astronaut_medium_skin_tone:                       \n",
      "⛎   0.402     :Ophiuchus:                                            \n",
      "🛸   0.400     :flying_saucer:                                        \n",
      "🔬   0.398     :microscope:                                           \n",
      "🟤   0.396     :brown_circle:                                         \n",
      "🧑🏼‍🚀   0.393     :astronaut_medium-light_skin_tone:                     \n",
      "🔯   0.389     :dotted_six-pointed_star:                              \n",
      "♍   0.384     :Virgo:                                                \n",
      "💫   0.382     :dizzy:                                                \n",
      "🛐   0.381     :place_of_worship:                                     \n",
      "👨🏿‍🚀   0.381     :man_astronaut_dark_skin_tone:                         \n",
      "☁   0.377     :cloud:                                                \n",
      "☁️   0.377     :cloud:                                                \n",
      "👩🏽‍🚀   0.369     :woman_astronaut_medium_skin_tone:                     \n",
      "⭐   0.368     :star:                                                 \n"
     ]
    }
   ],
   "source": [
    "return_simialr_emojis(\"science astronomy space\")"
   ]
  },
  {
   "cell_type": "code",
   "execution_count": 417,
   "metadata": {},
   "outputs": [
    {
     "name": "stdout",
     "output_type": "stream",
     "text": [
      "⛄   0.691  :snowman_without_snow:                                 \n",
      "☃   0.578  :snowman:                                              \n",
      "☃️   0.578  :snowman:                                              \n",
      "🎄   0.547  :Christmas_tree:                                       \n",
      "🎅🏽   0.523  :Santa_Claus_medium_skin_tone:                         \n",
      "🎅   0.510  :Santa_Claus:                                          \n",
      "🤶🏻   0.507  :Mrs._Claus_light_skin_tone:                           \n",
      "🤶🏾   0.506  :Mrs._Claus_medium-dark_skin_tone:                     \n",
      "🧑🏻‍🎄   0.502  :mx_claus_light_skin_tone:                             \n",
      "🤶🏽   0.499  :Mrs._Claus_medium_skin_tone:                          \n",
      "🎅🏾   0.499  :Santa_Claus_medium-dark_skin_tone:                    \n",
      "🤶🏼   0.496  :Mrs._Claus_medium-light_skin_tone:                    \n",
      "🎅🏻   0.495  :Santa_Claus_light_skin_tone:                          \n",
      "🤶   0.492  :Mrs._Claus:                                           \n",
      "🎅🏿   0.492  :Santa_Claus_dark_skin_tone:                           \n",
      "🧑🏾‍🎄   0.487  :mx_claus_medium-dark_skin_tone:                       \n",
      "🤶🏿   0.485  :Mrs._Claus_dark_skin_tone:                            \n",
      "🎅🏼   0.477  :Santa_Claus_medium-light_skin_tone:                   \n",
      "🌨   0.472  :cloud_with_snow:                                      \n",
      "❄   0.464  :snowflake:                                            \n",
      "🧑🏽‍🎄   0.448  :mx_claus_medium_skin_tone:                            \n",
      "🌨️   0.448  :cloud_with_snow:                                      \n",
      "❄️   0.445  :snowflake:                                            \n",
      "🧑🏿‍🎄   0.430  :mx_claus_dark_skin_tone:                              \n",
      "🧑‍🎄   0.428  :mx_claus:                                             \n",
      "🎃   0.418  :jack-o-lantern:                                       \n",
      "🧑🏼‍🎄   0.413  :mx_claus_medium-light_skin_tone:                      \n",
      "🇨🇽   0.406  :Christmas_Island:                                     \n",
      "🎿   0.405  :skis:                                                 \n",
      "🕎   0.399  :menorah:                                              \n",
      "🏂🏽   0.388  :snowboarder_medium_skin_tone:                         \n",
      "⛷   0.374  :skier:                                                \n",
      "⛷️   0.370  :skier:                                                \n",
      "🎍   0.368  :pine_decoration:                                      \n",
      "🏂   0.367  :snowboarder:                                          \n",
      "🧨   0.366  :firecracker:                                          \n",
      "🏂🏻   0.366  :snowboarder_light_skin_tone:                          \n",
      "⛸   0.363  :ice_skate:                                            \n",
      "🏂🏾   0.362  :snowboarder_medium-dark_skin_tone:                    \n",
      "🏂🏿   0.359  :snowboarder_dark_skin_tone:                           \n"
     ]
    }
   ],
   "source": [
    "return_simialr_emojis(\"winter holiday season\")"
   ]
  },
  {
   "cell_type": "code",
   "execution_count": 388,
   "metadata": {},
   "outputs": [
    {
     "name": "stdout",
     "output_type": "stream",
     "text": [
      "🦠   0.559     :microbe:                                              \n",
      "😷   0.544     :face_with_medical_mask:                               \n",
      "🤒   0.456     :face_with_thermometer:                                \n",
      "💉   0.374     :syringe:                                              \n",
      "🤮   0.364     :face_vomiting:                                        \n",
      "🌩️   0.355     :cloud_with_lightning:                                 \n",
      "🌩   0.355     :cloud_with_lightning:                                 \n",
      "🤢   0.347     :nauseated_face:                                       \n",
      "🧑🏼‍⚕   0.340     :health_worker_medium-light_skin_tone:                 \n",
      "🧑🏼‍⚕️   0.340     :health_worker_medium-light_skin_tone:                 \n",
      "🥼   0.334     :lab_coat:                                             \n",
      "🌧️   0.329     :cloud_with_rain:                                      \n",
      "🌧   0.329     :cloud_with_rain:                                      \n",
      "⛈️   0.328     :cloud_with_lightning_and_rain:                        \n",
      "🦹   0.319     :supervillain:                                         \n",
      "🐈‍⬛   0.319     :black_cat:                                            \n",
      "⛈   0.314     :cloud_with_lightning_and_rain:                        \n",
      "🦹🏻‍♂   0.311     :man_supervillain_light_skin_tone:                     \n",
      "🦹🏽‍♂️   0.303     :man_supervillain_medium_skin_tone:                    \n",
      "🦹🏿   0.299     :supervillain_dark_skin_tone:                          \n",
      "🐅   0.296     :tiger:                                                \n",
      "🦹🏻‍♂️   0.295     :man_supervillain_light_skin_tone:                     \n",
      "🦹🏿‍♂   0.292     :man_supervillain_dark_skin_tone:                      \n",
      "🌀   0.289     :cyclone:                                              \n",
      "🌁   0.288     :foggy:                                                \n",
      "🦹🏿‍♀   0.287     :woman_supervillain_dark_skin_tone:                    \n",
      "🐆   0.282     :leopard:                                              \n",
      "☣️   0.281     :biohazard:                                            \n",
      "☣   0.281     :biohazard:                                            \n",
      "🧟‍♀   0.277     :woman_zombie:                                         \n",
      "🏥   0.276     :hospital:                                             \n",
      "🥵   0.275     :hot_face:                                             \n",
      "🧫   0.274     :petri_dish:                                           \n",
      "🧑🏽‍⚕   0.271     :health_worker_medium_skin_tone:                       \n",
      "🦹‍♂️   0.271     :man_supervillain:                                     \n",
      "🦹🏿‍♂️   0.270     :man_supervillain_dark_skin_tone:                      \n",
      "🐓   0.270     :rooster:                                              \n",
      "🦹🏼‍♂   0.268     :man_supervillain_medium-light_skin_tone:              \n",
      "🦹🏼‍♂️   0.268     :man_supervillain_medium-light_skin_tone:              \n",
      "🐭   0.266     :mouse_face:                                           \n"
     ]
    }
   ],
   "source": [
    "return_simialr_emojis(\"virus health pandemic\")\n",
    "# mexican asian french italina food"
   ]
  },
  {
   "cell_type": "code",
   "execution_count": 428,
   "metadata": {},
   "outputs": [
    {
     "name": "stdout",
     "output_type": "stream",
     "text": [
      "🌅   0.443  :sunrise:                                              \n",
      "🥚   0.429  :egg:                                                  \n",
      "🌄   0.416  :sunrise_over_mountains:                               \n",
      "👶   0.415  :baby:                                                 \n",
      "🌚   0.415  :new_moon_face:                                        \n",
      "🌱   0.415  :seedling:                                             \n",
      "🌑   0.388  :new_moon:                                             \n",
      "🔰   0.384  :Japanese_symbol_for_beginner:                         \n",
      "🐣   0.377  :hatching_chick:                                       \n",
      "🚪   0.359  :door:                                                 \n",
      "🆕   0.332  :NEW_button:                                           \n",
      "🌼   0.332  :blossom:                                              \n",
      "👶🏽   0.329  :baby_medium_skin_tone:                                \n",
      "👶🏼   0.325  :baby_medium-light_skin_tone:                          \n",
      "👶🏻   0.324  :baby_light_skin_tone:                                 \n",
      "🌓   0.322  :first_quarter_moon:                                   \n",
      "🐤   0.320  :baby_chick:                                           \n",
      "🐥   0.320  :front-facing_baby_chick:                              \n",
      "🍂   0.316  :fallen_leaf:                                          \n",
      "🍃   0.314  :leaf_fluttering_in_wind:                              \n",
      "🪺   0.308  :nest_with_eggs:                                       \n",
      "👶🏾   0.306  :baby_medium-dark_skin_tone:                           \n",
      "🐓   0.298  :rooster:                                              \n",
      "💡   0.282  :light_bulb:                                           \n",
      "🚼   0.282  :baby_symbol:                                          \n",
      "💮   0.275  :white_flower:                                         \n",
      "👶🏿   0.274  :baby_dark_skin_tone:                                  \n",
      "🪹   0.270  :empty_nest:                                           \n",
      "🌒   0.257  :waxing_crescent_moon:                                 \n",
      "🌋   0.249  :volcano:                                              \n",
      "🍼   0.246  :baby_bottle:                                          \n",
      "⚗   0.245  :alembic:                                              \n",
      "🐇   0.244  :rabbit:                                               \n",
      "🇳🇨   0.242  :New_Caledonia:                                        \n",
      "🎬   0.241  :clapper_board:                                        \n",
      "🇵🇬   0.238  :Papua_New_Guinea:                                     \n",
      "🤰   0.237  :pregnant_woman:                                       \n",
      "🏗️   0.234  :building_construction:                                \n",
      "🅰️   0.234  :A_button_(blood_type):                                \n",
      "🧨   0.233  :firecracker:                                          \n"
     ]
    }
   ],
   "source": [
    "return_simialr_emojis(\"new beginnings\")\n",
    "# ambition"
   ]
  },
  {
   "cell_type": "code",
   "execution_count": 427,
   "metadata": {},
   "outputs": [
    {
     "data": {
      "text/plain": [
       "{'Emoji': '🌱',\n",
       " 'Description': 'This emoji represents a seedling, symbolizing new beginnings, growth, and the cycle of life, often used to express hope, optimism, and environmental awareness.',\n",
       " 'Semantic_Tags': ['seedling',\n",
       "  'growth',\n",
       "  'new beginnings',\n",
       "  'life cycle',\n",
       "  'nature',\n",
       "  'environment',\n",
       "  'hope',\n",
       "  'optimism'],\n",
       " 'emoji_cahr': '🌱'}"
      ]
     },
     "execution_count": 427,
     "metadata": {},
     "output_type": "execute_result"
    }
   ],
   "source": [
    "emoji_dict['🌱']"
   ]
  },
  {
   "cell_type": "code",
   "execution_count": null,
   "metadata": {},
   "outputs": [],
   "source": []
  }
 ],
 "metadata": {
  "kernelspec": {
   "display_name": "emoscope",
   "language": "python",
   "name": "python3"
  },
  "language_info": {
   "codemirror_mode": {
    "name": "ipython",
    "version": 3
   },
   "file_extension": ".py",
   "mimetype": "text/x-python",
   "name": "python",
   "nbconvert_exporter": "python",
   "pygments_lexer": "ipython3",
   "version": "3.11.9"
  }
 },
 "nbformat": 4,
 "nbformat_minor": 2
}
