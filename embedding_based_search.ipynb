{
 "cells": [
  {
   "cell_type": "code",
   "execution_count": 1,
   "metadata": {},
   "outputs": [],
   "source": [
    "#!/usr/bin/env python3\n",
    "import sys\n",
    "import unicodedata"
   ]
  },
  {
   "cell_type": "code",
   "execution_count": 2,
   "metadata": {},
   "outputs": [],
   "source": [
    "import numpy as np\n",
    "import pandas as pd\n",
    "from collections import defaultdict, Counter\n",
    "import pickle"
   ]
  },
  {
   "cell_type": "code",
   "execution_count": 3,
   "metadata": {},
   "outputs": [],
   "source": [
    "import emoji as em"
   ]
  },
  {
   "cell_type": "code",
   "execution_count": 4,
   "metadata": {},
   "outputs": [],
   "source": [
    "from tqdm.notebook import tqdm"
   ]
  },
  {
   "cell_type": "code",
   "execution_count": 6,
   "metadata": {},
   "outputs": [],
   "source": [
    "with open('emoji2dict.pkl', 'rb') as file:\n",
    "    emoji_dict = pickle.load(file)"
   ]
  },
  {
   "cell_type": "code",
   "execution_count": 7,
   "metadata": {},
   "outputs": [],
   "source": [
    "for emoji in emoji_dict:\n",
    "    emoji_dict[emoji]['emoji_char'] = emoji"
   ]
  },
  {
   "cell_type": "code",
   "execution_count": 8,
   "metadata": {},
   "outputs": [
    {
     "data": {
      "text/plain": [
       "'🇦🇽'"
      ]
     },
     "execution_count": 8,
     "metadata": {},
     "output_type": "execute_result"
    }
   ],
   "source": [
    "emoji_dict[emoji]['emoji_char']"
   ]
  },
  {
   "cell_type": "code",
   "execution_count": 9,
   "metadata": {},
   "outputs": [],
   "source": [
    "from qdrant_client import models, QdrantClient\n",
    "from sentence_transformers import SentenceTransformer\n"
   ]
  },
  {
   "cell_type": "code",
   "execution_count": 10,
   "metadata": {},
   "outputs": [
    {
     "name": "stderr",
     "output_type": "stream",
     "text": [
      "/home/badr/anaconda3/envs/emoscope/lib/python3.11/site-packages/huggingface_hub/file_download.py:1132: FutureWarning: `resume_download` is deprecated and will be removed in version 1.0.0. Downloads always resume when possible. If you want to force a new download, use `force_download=True`.\n",
      "  warnings.warn(\n"
     ]
    }
   ],
   "source": [
    "sentence_encoder = SentenceTransformer('paraphrase-multilingual-MiniLM-L12-v2')"
   ]
  },
  {
   "cell_type": "code",
   "execution_count": 11,
   "metadata": {},
   "outputs": [
    {
     "data": {
      "application/vnd.jupyter.widget-view+json": {
       "model_id": "780582ad093f4210914998b37e5adc0d",
       "version_major": 2,
       "version_minor": 0
      },
      "text/plain": [
       "  0%|          | 0/5034 [00:00<?, ?it/s]"
      ]
     },
     "metadata": {},
     "output_type": "display_data"
    }
   ],
   "source": [
    "vector_dict = {}\n",
    "\n",
    "for emoji in tqdm(emoji_dict):\n",
    "    vector_dict[emoji] = sentence_encoder.encode(\n",
    "        emoji_dict[emoji][\"Description\"] + \n",
    "        ' '.join(str(s) for s in emoji_dict[emoji][\"Semantic_Tags\"])\n",
    "    )"
   ]
  },
  {
   "cell_type": "code",
   "execution_count": 12,
   "metadata": {},
   "outputs": [],
   "source": [
    "client = QdrantClient(\":memory:\")"
   ]
  },
  {
   "cell_type": "code",
   "execution_count": 13,
   "metadata": {},
   "outputs": [
    {
     "name": "stderr",
     "output_type": "stream",
     "text": [
      "/tmp/ipykernel_21995/4046627369.py:1: DeprecationWarning: `recreate_collection` method is deprecated and will be removed in the future. Use `collection_exists` to check collection existence and `create_collection` instead.\n",
      "  client.recreate_collection(\n"
     ]
    },
    {
     "data": {
      "text/plain": [
       "True"
      ]
     },
     "execution_count": 13,
     "metadata": {},
     "output_type": "execute_result"
    }
   ],
   "source": [
    "client.recreate_collection(\n",
    "    collection_name=\"EMOJIS\",\n",
    "    vectors_config=models.VectorParams(\n",
    "        size=sentence_encoder.get_sentence_embedding_dimension(),\n",
    "        distance=models.Distance.COSINE,\n",
    "    ),\n",
    ")\n"
   ]
  },
  {
   "cell_type": "code",
   "execution_count": 14,
   "metadata": {},
   "outputs": [],
   "source": [
    "client.upload_points(\n",
    "    collection_name=\"EMOJIS\",\n",
    "    points=[\n",
    "        models.PointStruct(\n",
    "            id=idx, \n",
    "            vector=vector_dict[emoji].tolist(),\n",
    "            payload=emoji_dict[emoji]\n",
    "        )\n",
    "        for idx, emoji in enumerate(emoji_dict)\n",
    "    ],\n",
    ")"
   ]
  },
  {
   "cell_type": "code",
   "execution_count": 15,
   "metadata": {},
   "outputs": [
    {
     "data": {
      "text/plain": [
       "{'Emoji': '🧬',\n",
       " 'Description': 'This emoji represents DNA, the genetic material found in living organisms, symbolizing the blueprint of life and the basis of heredity and evolution.',\n",
       " 'Semantic_Tags': ['DNA',\n",
       "  'genetics',\n",
       "  'heredity',\n",
       "  'evolution',\n",
       "  'biology',\n",
       "  'molecule',\n",
       "  'science'],\n",
       " 'emoji_char': '🧬'}"
      ]
     },
     "execution_count": 15,
     "metadata": {},
     "output_type": "execute_result"
    }
   ],
   "source": [
    "emoji_dict['🧬']"
   ]
  },
  {
   "cell_type": "code",
   "execution_count": 59,
   "metadata": {},
   "outputs": [],
   "source": [
    "def return_simialr_emojis(query):\n",
    "    hits = client.search(\n",
    "        collection_name=\"EMOJIS\",\n",
    "        query_vector=sentence_encoder.encode(query).tolist(),\n",
    "        limit=40,\n",
    "    )\n",
    "\n",
    "    hit_emojis = set()\n",
    "\n",
    "    for i, hit in enumerate(hits):\n",
    "        emoji_char = hit.payload['emoji_char']\n",
    "        score = hit.score\n",
    "\n",
    "        _ord = ''\n",
    "        for c in emoji_char:\n",
    "            _ord += str(ord(c)) + ' '\n",
    "\n",
    "        _spec = len(emoji_char) + 3\n",
    "        unicode_desc = ' '.join(em.demojize(emoji_char).split('_'))[1:-1].upper()\n",
    "\n",
    "        if emoji_char not in hit_emojis: \n",
    "            print(f\"{i:<3} {emoji_char:<{_spec}}\", end='')\n",
    "            print(f\"{score:<7.3f}\", end= '')\n",
    "            print(f\"{unicode_desc:<55}\")\n",
    "            \n",
    "        hit_emojis.add(emoji_char)"
   ]
  },
  {
   "cell_type": "code",
   "execution_count": 60,
   "metadata": {},
   "outputs": [
    {
     "name": "stdout",
     "output_type": "stream",
     "text": [
      "0   🧬   0.484  DNA                                                    \n",
      "1   👩🏾‍🔬   0.314  WOMAN SCIENTIST MEDIUM-DARK SKIN TONE                  \n",
      "2   🅾   0.310  O BUTTON (BLOOD TYPE)                                  \n",
      "3   🅾️   0.310  O BUTTON (BLOOD TYPE)                                  \n",
      "4   👩‍🔬   0.306  WOMAN SCIENTIST                                        \n",
      "5   🧪   0.299  TEST TUBE                                              \n",
      "6   👩🏿‍🔬   0.298  WOMAN SCIENTIST DARK SKIN TONE                         \n",
      "7   👨‍🔬   0.292  MAN SCIENTIST                                          \n",
      "8   👩🏽‍🔬   0.289  WOMAN SCIENTIST MEDIUM SKIN TONE                       \n",
      "9   🅱   0.289  B BUTTON (BLOOD TYPE)                                  \n",
      "10  👨🏾‍🔬   0.289  MAN SCIENTIST MEDIUM-DARK SKIN TONE                    \n",
      "11  🅰   0.287  A BUTTON (BLOOD TYPE)                                  \n",
      "12  👩🏻‍🔬   0.285  WOMAN SCIENTIST LIGHT SKIN TONE                        \n",
      "13  🧑🏽‍🔬   0.284  SCIENTIST MEDIUM SKIN TONE                             \n",
      "14  🆎   0.279  AB BUTTON (BLOOD TYPE)                                 \n",
      "15  👩🏿‍🏭   0.278  WOMAN FACTORY WORKER DARK SKIN TONE                    \n",
      "16  🥼   0.277  LAB COAT                                               \n",
      "17  🦠   0.275  MICROBE                                                \n",
      "18  👩🏾‍🏭   0.272  WOMAN FACTORY WORKER MEDIUM-DARK SKIN TONE             \n",
      "19  🅰️   0.272  A BUTTON (BLOOD TYPE)                                  \n",
      "20  👨‍🏭   0.272  MAN FACTORY WORKER                                     \n",
      "21  🧑🏼‍🔬   0.271  SCIENTIST MEDIUM-LIGHT SKIN TONE                       \n",
      "22  🧑‍🔬   0.271  SCIENTIST                                              \n",
      "23  👩🏼‍🔬   0.268  WOMAN SCIENTIST MEDIUM-LIGHT SKIN TONE                 \n",
      "24  👨🏿‍🔬   0.266  MAN SCIENTIST DARK SKIN TONE                           \n",
      "25  👨🏽‍🔬   0.266  MAN SCIENTIST MEDIUM SKIN TONE                         \n",
      "26  👩🏽‍🏭   0.265  WOMAN FACTORY WORKER MEDIUM SKIN TONE                  \n",
      "27  👩🏽‍💻   0.264  WOMAN TECHNOLOGIST MEDIUM SKIN TONE                    \n",
      "28  🅱️   0.262  B BUTTON (BLOOD TYPE)                                  \n",
      "29  🧑🏾‍🔬   0.261  SCIENTIST MEDIUM-DARK SKIN TONE                        \n",
      "30  🧑🏿‍🔬   0.261  SCIENTIST DARK SKIN TONE                               \n",
      "31  👨‍💻   0.261  MAN TECHNOLOGIST                                       \n",
      "32  👩‍💻   0.261  WOMAN TECHNOLOGIST                                     \n",
      "33  👷🏾‍♀️   0.260  WOMAN CONSTRUCTION WORKER MEDIUM-DARK SKIN TONE        \n",
      "34  🧑🏾‍🏭   0.260  FACTORY WORKER MEDIUM-DARK SKIN TONE                   \n",
      "35  🧑🏻‍🔬   0.258  SCIENTIST LIGHT SKIN TONE                              \n",
      "36  🔬   0.257  MICROSCOPE                                             \n",
      "37  👩🏻‍🏭   0.255  WOMAN FACTORY WORKER LIGHT SKIN TONE                   \n",
      "38  🧑🏿‍🏭   0.255  FACTORY WORKER DARK SKIN TONE                          \n",
      "39  🧑🏻‍🏭   0.252  FACTORY WORKER LIGHT SKIN TONE                         \n"
     ]
    }
   ],
   "source": [
    "return_simialr_emojis(\n",
    "    \"DNA Biologie Labor Forschung\"\n",
    ")"
   ]
  },
  {
   "cell_type": "code",
   "execution_count": 61,
   "metadata": {},
   "outputs": [
    {
     "name": "stdout",
     "output_type": "stream",
     "text": [
      "0   🧬   0.580  DNA                                                    \n",
      "1   🦠   0.413  MICROBE                                                \n",
      "2   👨‍🔬   0.338  MAN SCIENTIST                                          \n",
      "3   👩🏾‍🔬   0.332  WOMAN SCIENTIST MEDIUM-DARK SKIN TONE                  \n",
      "4   🧑‍🔬   0.325  SCIENTIST                                              \n",
      "5   👩‍🔬   0.322  WOMAN SCIENTIST                                        \n",
      "6   🧑🏽‍🔬   0.311  SCIENTIST MEDIUM SKIN TONE                             \n",
      "7   🅾   0.304  O BUTTON (BLOOD TYPE)                                  \n",
      "8   🅾️   0.304  O BUTTON (BLOOD TYPE)                                  \n",
      "9   👩🏿‍🔬   0.303  WOMAN SCIENTIST DARK SKIN TONE                         \n",
      "10  🧑🏾‍🔬   0.298  SCIENTIST MEDIUM-DARK SKIN TONE                        \n",
      "11  🧑🏿‍🔬   0.297  SCIENTIST DARK SKIN TONE                               \n",
      "12  🅱   0.295  B BUTTON (BLOOD TYPE)                                  \n",
      "13  🧪   0.291  TEST TUBE                                              \n",
      "14  👨🏿‍🔬   0.290  MAN SCIENTIST DARK SKIN TONE                           \n",
      "15  🔬   0.287  MICROSCOPE                                             \n",
      "16  🅰   0.287  A BUTTON (BLOOD TYPE)                                  \n",
      "17  👨🏾‍🔬   0.283  MAN SCIENTIST MEDIUM-DARK SKIN TONE                    \n",
      "18  🆎   0.283  AB BUTTON (BLOOD TYPE)                                 \n",
      "19  👩🏻‍🔬   0.282  WOMAN SCIENTIST LIGHT SKIN TONE                        \n",
      "20  🥼   0.281  LAB COAT                                               \n",
      "21  👩‍👧   0.276  FAMILY WOMAN GIRL                                      \n",
      "22  🅱️   0.276  B BUTTON (BLOOD TYPE)                                  \n",
      "23  🧑🏼‍🔬   0.275  SCIENTIST MEDIUM-LIGHT SKIN TONE                       \n",
      "24  ⚗   0.275  ALEMBIC                                                \n",
      "25  👨‍👦‍👦   0.274  FAMILY MAN BOY BOY                                     \n",
      "26  🪸   0.270  CORAL                                                  \n",
      "27  👩🏽‍🔬   0.265  WOMAN SCIENTIST MEDIUM SKIN TONE                       \n",
      "28  🪺   0.264  NEST WITH EGGS                                         \n",
      "29  👨🏽‍🔬   0.262  MAN SCIENTIST MEDIUM SKIN TONE                         \n",
      "30  🧫   0.259  PETRI DISH                                             \n",
      "31  🅰️   0.259  A BUTTON (BLOOD TYPE)                                  \n",
      "32  ☣️   0.258  BIOHAZARD                                              \n",
      "33  ☣   0.258  BIOHAZARD                                              \n",
      "34  🧑🏻‍🔬   0.257  SCIENTIST LIGHT SKIN TONE                              \n",
      "35  👩‍👧‍👧   0.255  FAMILY WOMAN GIRL GIRL                                 \n",
      "36  🧉   0.250  MATE                                                   \n",
      "37  👦   0.249  BOY                                                    \n",
      "38  🫃   0.247  PREGNANT MAN                                           \n",
      "39  👨‍👧‍👧   0.246  FAMILY MAN GIRL GIRL                                   \n"
     ]
    }
   ],
   "source": [
    "return_simialr_emojis(\n",
    "    \"جينات بيولوجيا بحث\"\n",
    ")"
   ]
  },
  {
   "cell_type": "code",
   "execution_count": 62,
   "metadata": {},
   "outputs": [
    {
     "name": "stdout",
     "output_type": "stream",
     "text": [
      "0   🪐   0.562  RINGED PLANET                                          \n",
      "1   🌌   0.518  MILKY WAY                                              \n",
      "2   👨‍🚀   0.499  MAN ASTRONAUT                                          \n",
      "3   ☄   0.489  COMET                                                  \n",
      "4   🔭   0.480  TELESCOPE                                              \n",
      "5   ☄️   0.473  COMET                                                  \n",
      "6   👩‍🚀   0.458  WOMAN ASTRONAUT                                        \n",
      "7   🧑‍🚀   0.440  ASTRONAUT                                              \n",
      "8   🧑🏻‍🚀   0.437  ASTRONAUT LIGHT SKIN TONE                              \n",
      "9   🧑🏽‍🚀   0.422  ASTRONAUT MEDIUM SKIN TONE                             \n",
      "10  👨🏽‍🚀   0.421  MAN ASTRONAUT MEDIUM SKIN TONE                         \n",
      "11  🌃   0.420  NIGHT WITH STARS                                       \n",
      "12  👩🏻‍🚀   0.417  WOMAN ASTRONAUT LIGHT SKIN TONE                        \n",
      "13  🛰️   0.416  SATELLITE                                              \n",
      "14  👩🏿‍🚀   0.413  WOMAN ASTRONAUT DARK SKIN TONE                         \n",
      "15  🛰   0.412  SATELLITE                                              \n",
      "16  🌒   0.412  WAXING CRESCENT MOON                                   \n",
      "17  🧑🏾‍🚀   0.412  ASTRONAUT MEDIUM-DARK SKIN TONE                        \n",
      "18  🌕   0.410  FULL MOON                                              \n",
      "19  👨🏻‍🚀   0.404  MAN ASTRONAUT LIGHT SKIN TONE                          \n",
      "20  🧑🏿‍🚀   0.400  ASTRONAUT DARK SKIN TONE                               \n",
      "21  🌘   0.398  WANING CRESCENT MOON                                   \n",
      "22  🌔   0.393  WAXING GIBBOUS MOON                                    \n",
      "23  👨🏼‍🚀   0.391  MAN ASTRONAUT MEDIUM-LIGHT SKIN TONE                   \n",
      "24  ☁   0.387  CLOUD                                                  \n",
      "25  ☁️   0.387  CLOUD                                                  \n",
      "26  👩🏼‍🚀   0.380  WOMAN ASTRONAUT MEDIUM-LIGHT SKIN TONE                 \n",
      "27  👨🏾‍🚀   0.375  MAN ASTRONAUT MEDIUM-DARK SKIN TONE                    \n",
      "28  🌖   0.373  WANING GIBBOUS MOON                                    \n",
      "29  👩🏾‍🚀   0.366  WOMAN ASTRONAUT MEDIUM-DARK SKIN TONE                  \n",
      "30  🚀   0.366  ROCKET                                                 \n",
      "31  🧑🏼‍🚀   0.365  ASTRONAUT MEDIUM-LIGHT SKIN TONE                       \n",
      "32  🌓   0.364  FIRST QUARTER MOON                                     \n",
      "33  👨🏿‍🚀   0.362  MAN ASTRONAUT DARK SKIN TONE                           \n",
      "34  ☀   0.361  SUN                                                    \n",
      "35  ☀️   0.361  SUN                                                    \n",
      "36  👽   0.352  ALIEN                                                  \n",
      "37  👩🏽‍🚀   0.350  WOMAN ASTRONAUT MEDIUM SKIN TONE                       \n",
      "38  🌛   0.342  FIRST QUARTER MOON FACE                                \n",
      "39  🔬   0.341  MICROSCOPE                                             \n"
     ]
    }
   ],
   "source": [
    "return_simialr_emojis(\"علوم الفلك  و الفضاء\")"
   ]
  },
  {
   "cell_type": "code",
   "execution_count": 63,
   "metadata": {},
   "outputs": [
    {
     "name": "stdout",
     "output_type": "stream",
     "text": [
      "0   🪐   0.479  RINGED PLANET                                          \n",
      "1   🔭   0.469  TELESCOPE                                              \n",
      "2   🌌   0.429  MILKY WAY                                              \n",
      "3   ☄️   0.402  COMET                                                  \n",
      "4   ☄   0.397  COMET                                                  \n",
      "5   👨‍🚀   0.378  MAN ASTRONAUT                                          \n",
      "6   🔬   0.349  MICROSCOPE                                             \n",
      "7   🧑‍🚀   0.344  ASTRONAUT                                              \n",
      "8   🛰️   0.342  SATELLITE                                              \n",
      "9   🛰   0.341  SATELLITE                                              \n",
      "10  🧑🏻‍🚀   0.341  ASTRONAUT LIGHT SKIN TONE                              \n",
      "11  👩🏿‍🚀   0.339  WOMAN ASTRONAUT DARK SKIN TONE                         \n",
      "12  👩‍🚀   0.339  WOMAN ASTRONAUT                                        \n",
      "13  🌃   0.332  NIGHT WITH STARS                                       \n",
      "14  🧑🏾‍🚀   0.329  ASTRONAUT MEDIUM-DARK SKIN TONE                        \n",
      "15  🧑🏽‍🚀   0.322  ASTRONAUT MEDIUM SKIN TONE                             \n",
      "16  👩🏻‍🚀   0.320  WOMAN ASTRONAUT LIGHT SKIN TONE                        \n",
      "17  👨🏽‍🚀   0.319  MAN ASTRONAUT MEDIUM SKIN TONE                         \n",
      "18  🧑🏿‍🚀   0.319  ASTRONAUT DARK SKIN TONE                               \n",
      "19  👨🏻‍🚀   0.317  MAN ASTRONAUT LIGHT SKIN TONE                          \n",
      "20  🌘   0.315  WANING CRESCENT MOON                                   \n",
      "21  🌒   0.305  WAXING CRESCENT MOON                                   \n",
      "22  🌔   0.297  WAXING GIBBOUS MOON                                    \n",
      "23  👨🏼‍🚀   0.294  MAN ASTRONAUT MEDIUM-LIGHT SKIN TONE                   \n",
      "24  🌕   0.294  FULL MOON                                              \n",
      "25  👩🏾‍🚀   0.290  WOMAN ASTRONAUT MEDIUM-DARK SKIN TONE                  \n",
      "26  🔯   0.290  DOTTED SIX-POINTED STAR                                \n",
      "27  ☁️   0.288  CLOUD                                                  \n",
      "28  ☁   0.288  CLOUD                                                  \n",
      "29  🌥️   0.286  SUN BEHIND LARGE CLOUD                                 \n",
      "30  👩🏼‍🚀   0.285  WOMAN ASTRONAUT MEDIUM-LIGHT SKIN TONE                 \n",
      "31  ♾   0.284  INFINITY                                               \n",
      "32  ♾️   0.284  INFINITY                                               \n",
      "33  🌓   0.281  FIRST QUARTER MOON                                     \n",
      "34  👨🏿‍🚀   0.281  MAN ASTRONAUT DARK SKIN TONE                           \n",
      "35  🧑🏾‍🔬   0.280  SCIENTIST MEDIUM-DARK SKIN TONE                        \n",
      "36  👨🏿‍🔬   0.278  MAN SCIENTIST DARK SKIN TONE                           \n",
      "37  👽   0.275  ALIEN                                                  \n",
      "38  🌖   0.274  WANING GIBBOUS MOON                                    \n",
      "39  👨🏾‍🚀   0.274  MAN ASTRONAUT MEDIUM-DARK SKIN TONE                    \n"
     ]
    }
   ],
   "source": [
    "return_simialr_emojis(\"science astronomy space\")"
   ]
  },
  {
   "cell_type": "code",
   "execution_count": 64,
   "metadata": {},
   "outputs": [
    {
     "name": "stdout",
     "output_type": "stream",
     "text": [
      "0   🎿   0.668  SKIS                                                   \n",
      "1   🏂🏽   0.658  SNOWBOARDER MEDIUM SKIN TONE                           \n",
      "2   ⛷   0.630  SKIER                                                  \n",
      "3   ⛷️   0.623  SKIER                                                  \n",
      "4   🏂🏼   0.618  SNOWBOARDER MEDIUM-LIGHT SKIN TONE                     \n",
      "5   🛷   0.615  SLED                                                   \n",
      "6   🏂   0.606  SNOWBOARDER                                            \n",
      "7   🏂🏿   0.602  SNOWBOARDER DARK SKIN TONE                             \n",
      "8   🏂🏾   0.591  SNOWBOARDER MEDIUM-DARK SKIN TONE                      \n",
      "9   🏂🏻   0.585  SNOWBOARDER LIGHT SKIN TONE                            \n",
      "10  ☃️   0.581  SNOWMAN                                                \n",
      "11  ☃   0.581  SNOWMAN                                                \n",
      "12  ❄   0.570  SNOWFLAKE                                              \n",
      "13  ⛸   0.555  ICE SKATE                                              \n",
      "14  ⛄   0.533  SNOWMAN WITHOUT SNOW                                   \n",
      "15  ⛸️   0.508  ICE SKATE                                              \n",
      "16  🏔️   0.496  SNOW-CAPPED MOUNTAIN                                   \n",
      "17  ❄️   0.494  SNOWFLAKE                                              \n",
      "18  🏔   0.491  SNOW-CAPPED MOUNTAIN                                   \n",
      "19  🌨   0.473  CLOUD WITH SNOW                                        \n",
      "20  🥌   0.470  CURLING STONE                                          \n",
      "21  🌨️   0.462  CLOUD WITH SNOW                                        \n",
      "22  🐻‍❄️   0.390  POLAR BEAR                                             \n",
      "23  🐻‍❄   0.390  POLAR BEAR                                             \n",
      "24  🇦🇩   0.377  ANDORRA                                                \n",
      "25  🇸🇯   0.377  SVALBARD & JAN MAYEN                                   \n",
      "26  🚵   0.373  PERSON MOUNTAIN BIKING                                 \n",
      "27  🚵🏽‍♂️   0.362  MAN MOUNTAIN BIKING MEDIUM SKIN TONE                   \n",
      "28  🚵🏿‍♂   0.360  MAN MOUNTAIN BIKING DARK SKIN TONE                     \n",
      "29  🚵🏿‍♂️   0.360  MAN MOUNTAIN BIKING DARK SKIN TONE                     \n",
      "30  🚵🏼‍♂️   0.356  MAN MOUNTAIN BIKING MEDIUM-LIGHT SKIN TONE             \n",
      "31  🚵🏾‍♂️   0.355  MAN MOUNTAIN BIKING MEDIUM-DARK SKIN TONE              \n",
      "32  🚵🏾‍♂   0.355  MAN MOUNTAIN BIKING MEDIUM-DARK SKIN TONE              \n",
      "33  🏒   0.354  ICE HOCKEY                                             \n",
      "34  🚵🏽‍♂   0.342  MAN MOUNTAIN BIKING MEDIUM SKIN TONE                   \n",
      "35  🚵🏻‍♂️   0.334  MAN MOUNTAIN BIKING LIGHT SKIN TONE                    \n",
      "36  🚵🏻‍♂   0.334  MAN MOUNTAIN BIKING LIGHT SKIN TONE                    \n",
      "37  🚵‍♂️   0.332  MAN MOUNTAIN BIKING                                    \n",
      "38  🚵🏿   0.331  PERSON MOUNTAIN BIKING DARK SKIN TONE                  \n",
      "39  🚵🏼   0.328  PERSON MOUNTAIN BIKING MEDIUM-LIGHT SKIN TONE          \n"
     ]
    }
   ],
   "source": [
    "return_simialr_emojis(\"snow winter sport\")"
   ]
  },
  {
   "cell_type": "code",
   "execution_count": 67,
   "metadata": {},
   "outputs": [
    {
     "name": "stdout",
     "output_type": "stream",
     "text": [
      "0   😷   0.297  FACE WITH MEDICAL MASK                                 \n",
      "1   🤒   0.269  FACE WITH THERMOMETER                                  \n",
      "2   🌪   0.262  TORNADO                                                \n",
      "3   🌪️   0.262  TORNADO                                                \n",
      "4   🌩   0.258  CLOUD WITH LIGHTNING                                   \n",
      "5   🌩️   0.258  CLOUD WITH LIGHTNING                                   \n",
      "6   🦠   0.247  MICROBE                                                \n",
      "7   ⛈️   0.234  CLOUD WITH LIGHTNING AND RAIN                          \n",
      "8   🦟   0.231  MOSQUITO                                               \n",
      "9   ⛈   0.230  CLOUD WITH LIGHTNING AND RAIN                          \n",
      "10  🤮   0.222  FACE VOMITING                                          \n",
      "11  🌀   0.210  CYCLONE                                                \n",
      "12  🐅   0.206  TIGER                                                  \n",
      "13  🦹🏿   0.206  SUPERVILLAIN DARK SKIN TONE                            \n",
      "14  💉   0.203  SYRINGE                                                \n",
      "15  🦹‍♂️   0.197  MAN SUPERVILLAIN                                       \n",
      "16  🤢   0.194  NAUSEATED FACE                                         \n",
      "17  🥼   0.193  LAB COAT                                               \n",
      "18  🌁   0.190  FOGGY                                                  \n",
      "19  🪤   0.189  MOUSE TRAP                                             \n",
      "20  🐈‍⬛   0.189  BLACK CAT                                              \n",
      "21  🧑🏼‍⚕️   0.188  HEALTH WORKER MEDIUM-LIGHT SKIN TONE                   \n",
      "22  🧑🏼‍⚕   0.188  HEALTH WORKER MEDIUM-LIGHT SKIN TONE                   \n",
      "23  🌨   0.188  CLOUD WITH SNOW                                        \n",
      "24  🌨️   0.187  CLOUD WITH SNOW                                        \n",
      "25  🧑🏽‍⚕   0.187  HEALTH WORKER MEDIUM SKIN TONE                         \n",
      "26  🦹🏽   0.184  SUPERVILLAIN MEDIUM SKIN TONE                          \n",
      "27  🐆   0.183  LEOPARD                                                \n",
      "28  🌧️   0.183  CLOUD WITH RAIN                                        \n",
      "29  🌧   0.183  CLOUD WITH RAIN                                        \n",
      "30  🦹🏽‍♂️   0.182  MAN SUPERVILLAIN MEDIUM SKIN TONE                      \n",
      "31  🦹🏾   0.180  SUPERVILLAIN MEDIUM-DARK SKIN TONE                     \n",
      "32  🦹🏾‍♀   0.179  WOMAN SUPERVILLAIN MEDIUM-DARK SKIN TONE               \n",
      "33  ☣️   0.178  BIOHAZARD                                              \n",
      "34  ☣   0.178  BIOHAZARD                                              \n",
      "35  🦹🏿‍♀   0.173  WOMAN SUPERVILLAIN DARK SKIN TONE                      \n",
      "36  🦹🏻‍♂   0.171  MAN SUPERVILLAIN LIGHT SKIN TONE                       \n",
      "37  🦹🏿‍♂   0.171  MAN SUPERVILLAIN DARK SKIN TONE                        \n",
      "38  🦹🏼   0.163  SUPERVILLAIN MEDIUM-LIGHT SKIN TONE                    \n",
      "39  🦹   0.162  SUPERVILLAIN                                           \n"
     ]
    }
   ],
   "source": [
    "return_simialr_emojis(\"virus health pandemic\")\n",
    "# mexican asian french italina food"
   ]
  },
  {
   "cell_type": "code",
   "execution_count": 68,
   "metadata": {},
   "outputs": [
    {
     "name": "stdout",
     "output_type": "stream",
     "text": [
      "0   🌅   0.443  SUNRISE                                                \n",
      "1   🥚   0.429  EGG                                                    \n",
      "2   🌄   0.416  SUNRISE OVER MOUNTAINS                                 \n",
      "3   👶   0.415  BABY                                                   \n",
      "4   🌚   0.415  NEW MOON FACE                                          \n",
      "5   🌱   0.415  SEEDLING                                               \n",
      "6   🌑   0.388  NEW MOON                                               \n",
      "7   🔰   0.384  JAPANESE SYMBOL FOR BEGINNER                           \n",
      "8   🐣   0.377  HATCHING CHICK                                         \n",
      "9   🚪   0.359  DOOR                                                   \n",
      "10  🆕   0.332  NEW BUTTON                                             \n",
      "11  🌼   0.332  BLOSSOM                                                \n",
      "12  👶🏽   0.329  BABY MEDIUM SKIN TONE                                  \n",
      "13  👶🏼   0.325  BABY MEDIUM-LIGHT SKIN TONE                            \n",
      "14  👶🏻   0.324  BABY LIGHT SKIN TONE                                   \n",
      "15  🌓   0.322  FIRST QUARTER MOON                                     \n",
      "16  🐤   0.320  BABY CHICK                                             \n",
      "17  🐥   0.320  FRONT-FACING BABY CHICK                                \n",
      "18  🍂   0.316  FALLEN LEAF                                            \n",
      "19  🍃   0.314  LEAF FLUTTERING IN WIND                                \n",
      "20  🪺   0.308  NEST WITH EGGS                                         \n",
      "21  👶🏾   0.306  BABY MEDIUM-DARK SKIN TONE                             \n",
      "22  🐓   0.298  ROOSTER                                                \n",
      "23  💡   0.282  LIGHT BULB                                             \n",
      "24  🚼   0.282  BABY SYMBOL                                            \n",
      "25  💮   0.275  WHITE FLOWER                                           \n",
      "26  👶🏿   0.274  BABY DARK SKIN TONE                                    \n",
      "27  🪹   0.270  EMPTY NEST                                             \n",
      "28  🌒   0.257  WAXING CRESCENT MOON                                   \n",
      "29  🌋   0.249  VOLCANO                                                \n",
      "30  🍼   0.246  BABY BOTTLE                                            \n",
      "31  ⚗   0.245  ALEMBIC                                                \n",
      "32  🐇   0.244  RABBIT                                                 \n",
      "33  🇳🇨   0.242  NEW CALEDONIA                                          \n",
      "34  🎬   0.241  CLAPPER BOARD                                          \n",
      "35  🇵🇬   0.238  PAPUA NEW GUINEA                                       \n",
      "36  🤰   0.237  PREGNANT WOMAN                                         \n",
      "37  🏗️   0.234  BUILDING CONSTRUCTION                                  \n",
      "38  🅰️   0.234  A BUTTON (BLOOD TYPE)                                  \n",
      "39  🧨   0.233  FIRECRACKER                                            \n"
     ]
    }
   ],
   "source": [
    "return_simialr_emojis(\"new beginnings\")\n",
    "# ambition"
   ]
  },
  {
   "cell_type": "code",
   "execution_count": 70,
   "metadata": {},
   "outputs": [
    {
     "name": "stdout",
     "output_type": "stream",
     "text": [
      "0   🐈   0.634  CAT                                                    \n",
      "1   😸   0.607  GRINNING CAT WITH SMILING EYES                         \n",
      "2   🐅   0.605  TIGER                                                  \n",
      "3   😼   0.602  CAT WITH WRY SMILE                                     \n",
      "4   🐱   0.592  CAT FACE                                               \n",
      "5   🐆   0.591  LEOPARD                                                \n",
      "6   😺   0.584  GRINNING CAT                                           \n",
      "7   🐈‍⬛   0.579  BLACK CAT                                              \n",
      "8   😾   0.573  POUTING CAT                                            \n",
      "9   😻   0.566  SMILING CAT WITH HEART-EYES                            \n",
      "10  😽   0.548  KISSING CAT                                            \n",
      "11  😹   0.537  CAT WITH TEARS OF JOY                                  \n",
      "12  😿   0.513  CRYING CAT                                             \n",
      "13  🐹   0.506  HAMSTER                                                \n",
      "14  🙀   0.488  WEARY CAT                                              \n",
      "15  🐿   0.457  CHIPMUNK                                               \n",
      "16  🐾   0.435  PAW PRINTS                                             \n",
      "17  🐺   0.431  WOLF                                                   \n",
      "18  🐻   0.428  BEAR                                                   \n",
      "19  🐷   0.420  PIG FACE                                               \n",
      "20  🦌   0.420  DEER                                                   \n",
      "21  🫎   0.417  MOOSE                                                  \n",
      "22  🐁   0.415  MOUSE                                                  \n",
      "23  🐨   0.412  KOALA                                                  \n",
      "24  🐩   0.411  POODLE                                                 \n",
      "25  🦡   0.408  BADGER                                                 \n",
      "26  🦦   0.405  OTTER                                                  \n",
      "27  🦊   0.404  FOX                                                    \n",
      "28  🦫   0.399  BEAVER                                                 \n",
      "29  🫏   0.398  DONKEY                                                 \n",
      "30  🐿️   0.397  CHIPMUNK                                               \n",
      "31  🦔   0.397  HEDGEHOG                                               \n",
      "32  🦘   0.397  KANGAROO                                               \n",
      "33  🦨   0.394  SKUNK                                                  \n",
      "34  🪤   0.390  MOUSE TRAP                                             \n",
      "35  🦥   0.388  SLOTH                                                  \n",
      "36  🐯   0.387  TIGER FACE                                             \n",
      "37  🐀   0.380  RAT                                                    \n",
      "38  🐇   0.378  RABBIT                                                 \n",
      "39  🐫   0.377  TWO-HUMP CAMEL                                         \n"
     ]
    }
   ],
   "source": [
    "return_simialr_emojis(\"Katze Haustier\")\n",
    "# ambition"
   ]
  },
  {
   "cell_type": "code",
   "execution_count": 25,
   "metadata": {},
   "outputs": [
    {
     "name": "stdout",
     "output_type": "stream",
     "text": [
      "🚀   0.356  ROCKET                                                 \n",
      "📈   0.355  CHART INCREASING                                       \n",
      "🌱   0.337  SEEDLING                                               \n",
      "💹   0.336  CHART INCREASING WITH YEN                              \n",
      "🏗️   0.307  BUILDING CONSTRUCTION                                  \n",
      "💸   0.286  MONEY WITH WINGS                                       \n",
      "🧗   0.284  PERSON CLIMBING                                        \n",
      "🚧   0.281  CONSTRUCTION                                           \n",
      "🎯   0.272  BULLSEYE                                               \n",
      "↗️   0.271  UP-RIGHT ARROW                                         \n",
      "🥅   0.271  GOAL NET                                               \n",
      "🏗   0.270  BUILDING CONSTRUCTION                                  \n",
      "↗   0.265  UP-RIGHT ARROW                                         \n",
      "🌟   0.252  GLOWING STAR                                           \n",
      "💯   0.244  HUNDRED POINTS                                         \n",
      "🌼   0.243  BLOSSOM                                                \n",
      "⛹️‍♀   0.241  WOMAN BOUNCING BALL                                    \n",
      "🧗🏽‍♂   0.240  MAN CLIMBING MEDIUM SKIN TONE                          \n",
      "⬆️   0.238  UP ARROW                                               \n",
      "⚒   0.237  HAMMER AND PICK                                        \n",
      "🔜   0.232  SOON ARROW                                             \n",
      "🧗🏾‍♂   0.228  MAN CLIMBING MEDIUM-DARK SKIN TONE                     \n",
      "🏫   0.222  SCHOOL                                                 \n",
      "🧗‍♂   0.217  MAN CLIMBING                                           \n",
      "🔺   0.215  RED TRIANGLE POINTED UP                                \n",
      "💡   0.212  LIGHT BULB                                             \n",
      "🧗🏼‍♂   0.211  MAN CLIMBING MEDIUM-LIGHT SKIN TONE                    \n",
      "🥚   0.209  EGG                                                    \n",
      "🆙   0.205  UP! BUTTON                                             \n",
      "🏃‍♀️   0.201  WOMAN RUNNING                                          \n",
      "⬆   0.200  UP ARROW                                               \n",
      "🥈   0.200  2ND PLACE MEDAL                                        \n",
      "♒   0.194  AQUARIUS                                               \n",
      "🎓   0.192  GRADUATION CAP                                         \n",
      "⤴   0.191  RIGHT ARROW CURVING UP                                 \n",
      "🚶‍♂️   0.190  MAN WALKING                                            \n",
      "🚶‍♂   0.190  MAN WALKING                                            \n",
      "🌠   0.188  SHOOTING STAR                                          \n",
      "💗   0.188  GROWING HEART                                          \n",
      "⤴️   0.187  RIGHT ARROW CURVING UP                                 \n"
     ]
    }
   ],
   "source": [
    "return_simialr_emojis(\"ambition growth success\")"
   ]
  },
  {
   "cell_type": "code",
   "execution_count": 26,
   "metadata": {},
   "outputs": [
    {
     "name": "stdout",
     "output_type": "stream",
     "text": [
      "🌀   0.430  CYCLONE                                                \n",
      "💥   0.398  COLLISION                                              \n",
      "🌪️   0.380  TORNADO                                                \n",
      "🌪   0.380  TORNADO                                                \n",
      "🌋   0.370  VOLCANO                                                \n",
      "💣   0.345  BOMB                                                   \n",
      "🚒   0.328  FIRE ENGINE                                            \n",
      "🧑‍🚒   0.316  FIREFIGHTER                                            \n",
      "⛈️   0.300  CLOUD WITH LIGHTNING AND RAIN                          \n",
      "⛈   0.300  CLOUD WITH LIGHTNING AND RAIN                          \n",
      "🌩   0.298  CLOUD WITH LIGHTNING                                   \n",
      "🌩️   0.298  CLOUD WITH LIGHTNING                                   \n",
      "👨‍🚒   0.295  MAN FIREFIGHTER                                        \n",
      "🏝   0.292  DESERT ISLAND                                          \n",
      "🌧️   0.291  CLOUD WITH RAIN                                        \n",
      "🌧   0.291  CLOUD WITH RAIN                                        \n",
      "🏝️   0.284  DESERT ISLAND                                          \n",
      "🟥   0.281  RED SQUARE                                             \n",
      "🌫   0.277  FOG                                                    \n",
      "🌫️   0.277  FOG                                                    \n",
      "🧑🏾‍🚒   0.269  FIREFIGHTER MEDIUM-DARK SKIN TONE                      \n",
      "🇹🇦   0.263  TRISTAN DA CUNHA                                       \n",
      "🚑   0.261  AMBULANCE                                              \n",
      "🆘   0.260  SOS BUTTON                                             \n",
      "⛰   0.260  MOUNTAIN                                               \n",
      "🧟‍♀   0.260  WOMAN ZOMBIE                                           \n",
      "⛑️   0.258  RESCUE WORKER’S HELMET                                 \n",
      "⛰️   0.258  MOUNTAIN                                               \n",
      "🏜   0.257  DESERT                                                 \n",
      "🏜️   0.257  DESERT                                                 \n",
      "🧑🏽‍🚒   0.257  FIREFIGHTER MEDIUM SKIN TONE                           \n",
      "⛑   0.257  RESCUE WORKER’S HELMET                                 \n",
      "🍂   0.255  FALLEN LEAF                                            \n",
      "☔   0.254  UMBRELLA WITH RAIN DROPS                               \n",
      "☣️   0.254  BIOHAZARD                                              \n",
      "☣   0.254  BIOHAZARD                                              \n",
      "😱   0.253  FACE SCREAMING IN FEAR                                 \n",
      "👩‍🚒   0.252  WOMAN FIREFIGHTER                                      \n",
      "👨🏾‍🚒   0.246  MAN FIREFIGHTER MEDIUM-DARK SKIN TONE                  \n",
      "⚠️   0.246  WARNING                                                \n"
     ]
    }
   ],
   "source": [
    "return_simialr_emojis(\"natural disaster\")"
   ]
  },
  {
   "cell_type": "code",
   "execution_count": 72,
   "metadata": {},
   "outputs": [
    {
     "name": "stdout",
     "output_type": "stream",
     "text": [
      "0   🦬   0.476  BISON                                                  \n",
      "1   🦥   0.465  SLOTH                                                  \n",
      "2   🦙   0.437  LLAMA                                                  \n",
      "3   🐃   0.428  WATER BUFFALO                                          \n",
      "4   🦌   0.421  DEER                                                   \n",
      "5   🐄   0.415  COW                                                    \n",
      "6   🐂   0.412  OX                                                     \n",
      "7   🐗   0.408  BOAR                                                   \n",
      "8   🐺   0.398  WOLF                                                   \n",
      "9   🐹   0.393  HAMSTER                                                \n",
      "10  🐷   0.390  PIG FACE                                               \n",
      "11  🫏   0.381  DONKEY                                                 \n",
      "12  🐖   0.371  PIG                                                    \n",
      "13  🐕   0.371  DOG                                                    \n",
      "14  🦊   0.362  FOX                                                    \n",
      "15  🦡   0.360  BADGER                                                 \n",
      "16  🫎   0.359  MOOSE                                                  \n",
      "17  🐮   0.355  COW FACE                                               \n",
      "18  🐾   0.350  PAW PRINTS                                             \n",
      "19  🦦   0.345  OTTER                                                  \n",
      "20  🐁   0.344  MOUSE                                                  \n",
      "21  🐐   0.342  GOAT                                                   \n",
      "22  🦛   0.337  HIPPOPOTAMUS                                           \n",
      "23  🐿   0.332  CHIPMUNK                                               \n",
      "24  🐩   0.327  POODLE                                                 \n",
      "25  🦧   0.325  ORANGUTAN                                              \n",
      "26  🦫   0.324  BEAVER                                                 \n",
      "27  🐻   0.324  BEAR                                                   \n",
      "28  🇦🇶   0.322  ANTARCTICA                                             \n",
      "29  🐽   0.319  PIG NOSE                                               \n",
      "30  🐆   0.318  LEOPARD                                                \n",
      "31  🐅   0.316  TIGER                                                  \n",
      "32  🐘   0.302  ELEPHANT                                               \n",
      "33  🇬🇸   0.296  SOUTH GEORGIA & SOUTH SANDWICH ISLANDS                 \n",
      "34  🇲🇬   0.296  MADAGASCAR                                             \n",
      "35  🐎   0.295  HORSE                                                  \n",
      "36  🐀   0.293  RAT                                                    \n",
      "37  🐊   0.292  CROCODILE                                              \n",
      "38  🐏   0.290  RAM                                                    \n",
      "39  🐶   0.288  DOG FACE                                               \n"
     ]
    }
   ],
   "source": [
    "return_simialr_emojis(\"Animals you can only find in America\")\n",
    "# "
   ]
  },
  {
   "cell_type": "code",
   "execution_count": 28,
   "metadata": {},
   "outputs": [
    {
     "data": {
      "text/plain": [
       "{'Emoji': '🥨',\n",
       " 'Description': 'This emoji represents a pretzel, a popular baked snack made from dough, often shaped into various forms and enjoyed as a tasty treat.',\n",
       " 'Semantic_Tags': ['pretzel', 'snack', 'food', 'baked', 'dough', 'treat'],\n",
       " 'emoji_char': '🥨'}"
      ]
     },
     "execution_count": 28,
     "metadata": {},
     "output_type": "execute_result"
    }
   ],
   "source": [
    "emoji_dict['🥨']"
   ]
  },
  {
   "cell_type": "code",
   "execution_count": 77,
   "metadata": {},
   "outputs": [
    {
     "name": "stdout",
     "output_type": "stream",
     "text": [
      "0   🥇   0.518  1ST PLACE MEDAL                                        \n",
      "1   🏆   0.489  TROPHY                                                 \n",
      "2   🥈   0.467  2ND PLACE MEDAL                                        \n",
      "3   ✌️   0.400  VICTORY HAND                                           \n",
      "4   💯   0.394  HUNDRED POINTS                                         \n",
      "5   ✌🏾   0.393  VICTORY HAND MEDIUM-DARK SKIN TONE                     \n",
      "6   🧍🏻‍♂   0.392  MAN STANDING LIGHT SKIN TONE                           \n",
      "7   🥉   0.385  3RD PLACE MEDAL                                        \n",
      "8   ✌   0.381  VICTORY HAND                                           \n",
      "9   🏅   0.380  SPORTS MEDAL                                           \n",
      "10  ✋   0.356  RAISED HAND                                            \n",
      "11  🧍🏿‍♂   0.343  MAN STANDING DARK SKIN TONE                            \n",
      "12  🧍🏿‍♂️   0.339  MAN STANDING DARK SKIN TONE                            \n",
      "13  🌱   0.339  SEEDLING                                               \n",
      "14  🧗   0.335  PERSON CLIMBING                                        \n",
      "15  🎰   0.335  SLOT MACHINE                                           \n",
      "16  ⭐   0.334  STAR                                                   \n",
      "17  ✌🏽   0.334  VICTORY HAND MEDIUM SKIN TONE                          \n",
      "18  ✌🏿   0.333  VICTORY HAND DARK SKIN TONE                            \n",
      "19  🎏   0.331  CARP STREAMER                                          \n",
      "20  😅   0.328  GRINNING FACE WITH SWEAT                               \n",
      "21  🔺   0.320  RED TRIANGLE POINTED UP                                \n",
      "22  🧗‍♂   0.320  MAN CLIMBING                                           \n",
      "23  🏁   0.319  CHEQUERED FLAG                                         \n",
      "24  ⚖   0.319  BALANCE SCALE                                          \n",
      "25  🎓   0.318  GRADUATION CAP                                         \n",
      "26  🫰🏻   0.318  HAND WITH INDEX FINGER AND THUMB CROSSED LIGHT SKIN TONE\n",
      "27  💸   0.318  MONEY WITH WINGS                                       \n",
      "28  ✋🏻   0.311  RAISED HAND LIGHT SKIN TONE                            \n",
      "29  🧗🏾‍♂   0.310  MAN CLIMBING MEDIUM-DARK SKIN TONE                     \n",
      "30  🥅   0.309  GOAL NET                                               \n",
      "31  🤞   0.309  CROSSED FINGERS                                        \n",
      "32  🫰🏾   0.304  HAND WITH INDEX FINGER AND THUMB CROSSED MEDIUM-DARK SKIN TONE\n",
      "33  👨‍🚒   0.303  MAN FIREFIGHTER                                        \n",
      "34  😄   0.303  GRINNING FACE WITH SMILING EYES                        \n",
      "35  😁   0.303  BEAMING FACE WITH SMILING EYES                         \n",
      "36  🧗🏽‍♂   0.303  MAN CLIMBING MEDIUM SKIN TONE                          \n",
      "37  🏀   0.302  BASKETBALL                                             \n",
      "38  ⭕   0.301  HOLLOW RED CIRCLE                                      \n",
      "39  ✌🏻   0.300  VICTORY HAND LIGHT SKIN TONE                           \n"
     ]
    }
   ],
   "source": [
    "return_simialr_emojis(\"victory winning in life\")"
   ]
  },
  {
   "cell_type": "code",
   "execution_count": 96,
   "metadata": {},
   "outputs": [
    {
     "name": "stdout",
     "output_type": "stream",
     "text": [
      "0   🥍   0.494  LACROSSE                                               \n",
      "1   🏑   0.477  FIELD HOCKEY                                           \n",
      "2   🏐   0.464  VOLLEYBALL                                             \n",
      "3   🇨🇦   0.463  CANADA                                                 \n",
      "4   🏀   0.461  BASKETBALL                                             \n",
      "5   🏏   0.444  CRICKET GAME                                           \n",
      "6   🥅   0.427  GOAL NET                                               \n",
      "7   🏉   0.426  RUGBY FOOTBALL                                         \n",
      "8   ⚾   0.415  BASEBALL                                               \n",
      "9   🏓   0.406  PING PONG                                              \n",
      "10  🏒   0.398  ICE HOCKEY                                             \n",
      "11  🎾   0.398  TENNIS                                                 \n",
      "12  🪃   0.385  BOOMERANG                                              \n",
      "13  🤾‍♂️   0.383  MAN PLAYING HANDBALL                                   \n",
      "14  🤾‍♂   0.383  MAN PLAYING HANDBALL                                   \n",
      "15  🍁   0.380  MAPLE LEAF                                             \n",
      "16  ⚽   0.377  SOCCER BALL                                            \n",
      "17  ⛹🏽‍♀️   0.375  WOMAN BOUNCING BALL MEDIUM SKIN TONE                   \n",
      "18  🏸   0.364  BADMINTON                                              \n",
      "19  ⛹🏽‍♂️   0.360  MAN BOUNCING BALL MEDIUM SKIN TONE                     \n",
      "20  ⛹🏽‍♂   0.360  MAN BOUNCING BALL MEDIUM SKIN TONE                     \n",
      "21  ⛹🏻   0.358  PERSON BOUNCING BALL LIGHT SKIN TONE                   \n",
      "22  🤾🏻‍♂️   0.356  MAN PLAYING HANDBALL LIGHT SKIN TONE                   \n",
      "23  ⛹🏽‍♀   0.356  WOMAN BOUNCING BALL MEDIUM SKIN TONE                   \n",
      "24  🤾🏻‍♂   0.352  MAN PLAYING HANDBALL LIGHT SKIN TONE                   \n",
      "25  ⛹🏿‍♀️   0.352  WOMAN BOUNCING BALL DARK SKIN TONE                     \n",
      "26  🤾‍♀️   0.351  WOMAN PLAYING HANDBALL                                 \n",
      "27  ⛹🏼‍♂   0.351  MAN BOUNCING BALL MEDIUM-LIGHT SKIN TONE               \n",
      "28  ⛹️‍♀️   0.350  WOMAN BOUNCING BALL                                    \n",
      "29  ⛹🏽   0.350  PERSON BOUNCING BALL MEDIUM SKIN TONE                  \n",
      "30  🤾   0.349  PERSON PLAYING HANDBALL                                \n",
      "31  ⛹🏻‍♂️   0.348  MAN BOUNCING BALL LIGHT SKIN TONE                      \n",
      "32  🤾🏽‍♀️   0.345  WOMAN PLAYING HANDBALL MEDIUM SKIN TONE                \n",
      "33  🤾🏼   0.344  PERSON PLAYING HANDBALL MEDIUM-LIGHT SKIN TONE         \n",
      "34  ⛹🏾‍♀️   0.344  WOMAN BOUNCING BALL MEDIUM-DARK SKIN TONE              \n",
      "35  🤾‍♀   0.344  WOMAN PLAYING HANDBALL                                 \n",
      "36  🤽‍♂️   0.344  MAN PLAYING WATER POLO                                 \n",
      "37  🤾🏽‍♂️   0.343  MAN PLAYING HANDBALL MEDIUM SKIN TONE                  \n",
      "38  ⛹🏼‍♀   0.341  WOMAN BOUNCING BALL MEDIUM-LIGHT SKIN TONE             \n",
      "39  🤾🏽‍♂   0.341  MAN PLAYING HANDBALL MEDIUM SKIN TONE                  \n"
     ]
    }
   ],
   "source": [
    "return_simialr_emojis(\"popular sport in Canada\")"
   ]
  },
  {
   "cell_type": "code",
   "execution_count": 88,
   "metadata": {},
   "outputs": [
    {
     "data": {
      "text/plain": [
       "{'Emoji': '🪳',\n",
       " 'Description': 'This emoji represents a cockroach, a small, flat insect known for its quick movement and often associated with unclean environments and pests.',\n",
       " 'Semantic_Tags': ['cockroach', 'insect', 'pest', 'small', 'flat', 'unclean'],\n",
       " 'emoji_char': '🪳'}"
      ]
     },
     "execution_count": 88,
     "metadata": {},
     "output_type": "execute_result"
    }
   ],
   "source": [
    "emoji_dict[\"🪳\"]"
   ]
  },
  {
   "cell_type": "code",
   "execution_count": 97,
   "metadata": {},
   "outputs": [],
   "source": [
    "emoji_dict_with_vector = {\n",
    "    emoji: {\n",
    "        **emoji_dict[emoji],\n",
    "        \"vector\": vector_dict[emoji]\n",
    "    }\n",
    "    for emoji in emoji_dict\n",
    "}"
   ]
  },
  {
   "cell_type": "code",
   "execution_count": 98,
   "metadata": {},
   "outputs": [
    {
     "data": {
      "text/plain": [
       "{'Emoji': '🪳',\n",
       " 'Description': 'This emoji represents a cockroach, a small, flat insect known for its quick movement and often associated with unclean environments and pests.',\n",
       " 'Semantic_Tags': ['cockroach', 'insect', 'pest', 'small', 'flat', 'unclean'],\n",
       " 'emoji_char': '🪳',\n",
       " 'vector': array([-1.05071940e-01,  1.54165015e-01,  1.55826941e-01, -1.97199374e-01,\n",
       "        -2.28303745e-01, -2.87494004e-01,  1.98311001e-01, -2.23975793e-01,\n",
       "        -1.06316775e-01,  5.51524051e-02,  2.55397260e-01,  4.91766706e-02,\n",
       "         2.46094257e-01,  9.21425819e-02,  2.57114600e-02,  1.92957729e-01,\n",
       "         8.77838805e-02,  3.20467085e-01,  2.51201093e-01, -3.97997089e-02,\n",
       "         3.53387296e-01,  3.15393209e-01,  2.13830784e-01,  3.08327287e-01,\n",
       "        -1.40273586e-01, -2.44938359e-01, -1.82471082e-01,  2.77699888e-01,\n",
       "         8.33257064e-02, -8.43241066e-02,  4.49527115e-01,  2.60394722e-01,\n",
       "         5.25033250e-02,  1.12449668e-01, -2.83867300e-01,  2.91387796e-01,\n",
       "        -5.21503270e-01,  1.83423702e-02,  4.58028577e-02,  1.26067117e-01,\n",
       "        -1.41163290e-01,  9.93731692e-02, -1.22753223e-02, -2.36877546e-01,\n",
       "        -3.00302684e-01, -2.88007092e-02, -1.20831795e-01,  6.25290647e-02,\n",
       "        -2.16972530e-02, -2.54393905e-01,  2.83188790e-01, -2.82937616e-01,\n",
       "        -2.40989074e-01, -3.14553171e-01,  4.39248711e-01,  6.11873716e-02,\n",
       "        -2.62993053e-02, -3.04257840e-01,  7.14775473e-02, -4.01515633e-01,\n",
       "         2.40860283e-01,  7.23279715e-02, -2.73622256e-02,  1.79407716e-01,\n",
       "         5.76289669e-02, -1.14851341e-01, -9.18496028e-02, -4.47600991e-01,\n",
       "        -2.28485242e-01,  1.64723888e-01,  2.18714355e-03, -2.62966007e-01,\n",
       "        -1.09579988e-01,  5.01202285e-01,  4.73107881e-04,  3.47066931e-02,\n",
       "        -2.13543288e-02, -1.38156697e-01, -1.03601530e-01,  1.32921720e-02,\n",
       "        -1.84857771e-01, -8.52413177e-02, -1.42350778e-01,  1.38958218e-02,\n",
       "         2.75893323e-02,  1.10081248e-01,  9.47076827e-02, -1.05414912e-01,\n",
       "        -1.38540089e-01,  2.17771474e-02,  3.15713763e-01,  8.45582131e-03,\n",
       "         5.79418093e-02, -1.50534511e-01,  3.82665604e-01, -9.65233520e-02,\n",
       "         2.52458125e-01, -1.47224486e-01, -2.51441658e-01,  3.23430747e-01,\n",
       "         5.89425936e-02, -1.65874869e-01,  1.42581726e-03,  4.02349353e-01,\n",
       "        -1.12559997e-01,  1.39269769e-01, -7.55964145e-02, -7.14073718e-01,\n",
       "        -6.78761974e-02,  1.79798022e-01, -1.29464790e-01,  7.58034140e-02,\n",
       "        -1.07355192e-01,  1.55466899e-01, -7.31559545e-02, -5.59880972e-01,\n",
       "        -1.07259206e-01, -5.32324947e-02, -4.15160619e-02,  2.96430290e-01,\n",
       "        -3.61582518e-01, -1.36650875e-01, -7.12990314e-02,  1.02032162e-01,\n",
       "         4.17548358e-01,  4.56136167e-02, -5.49373142e-02,  2.54921287e-01,\n",
       "        -7.84044191e-02,  3.18850800e-02,  1.70968249e-02, -1.66895181e-01,\n",
       "         4.23123777e-01, -1.66486949e-01, -6.48800209e-02,  2.89852023e-01,\n",
       "         3.18614542e-01,  1.20853052e-01, -2.25051790e-01, -2.93136418e-01,\n",
       "        -1.57823414e-01,  1.85093135e-02, -1.28129810e-01,  5.59387840e-02,\n",
       "         1.66470826e-01, -2.40477607e-01,  9.82268974e-02,  4.09329087e-02,\n",
       "        -2.17680573e-01,  2.71005780e-01, -1.65900700e-02, -2.98639983e-01,\n",
       "         1.53731450e-01,  2.25486606e-01, -1.56413212e-01, -8.45885500e-02,\n",
       "        -2.62512863e-02,  7.25535601e-02,  3.61559033e-01,  9.18727089e-03,\n",
       "        -2.44216412e-01,  1.67239577e-01, -3.85626741e-02, -3.32107365e-01,\n",
       "         9.60125923e-02, -1.65820256e-01, -1.43220916e-01, -1.12348750e-01,\n",
       "        -1.28496969e-02, -4.08349521e-02, -4.41519856e-01, -1.41836986e-01,\n",
       "         3.54362167e-02,  1.20174788e-01, -1.48522034e-02, -6.89211041e-02,\n",
       "         1.16467871e-01,  5.46038747e-02, -4.74077314e-02,  2.26850272e-03,\n",
       "         2.22332999e-01, -9.60412100e-02, -1.98433638e-01, -6.98258206e-02,\n",
       "        -1.32169396e-01, -7.60778189e-02, -1.39110431e-01, -2.10884344e-02,\n",
       "         9.13690589e-03,  1.37538761e-01,  6.51506241e-03, -4.08723019e-02,\n",
       "         2.84964383e-01, -1.05103947e-01, -7.61575401e-02,  5.81237348e-03,\n",
       "         1.30269438e-01, -1.63710192e-02,  2.94150025e-01, -2.32998863e-01,\n",
       "        -1.80360898e-01, -1.12685107e-01, -1.21633127e-01, -8.38746428e-02,\n",
       "        -1.96427345e-01, -1.07853971e-01,  8.00580457e-02,  5.11727184e-02,\n",
       "         4.06367518e-02,  2.99426615e-02,  2.31697932e-02, -2.64478087e-01,\n",
       "        -6.49913624e-02,  2.46825621e-01,  1.27621979e-01, -3.14166486e-01,\n",
       "         1.13661820e-02,  5.06167039e-02,  4.85317558e-02, -3.19627136e-01,\n",
       "        -6.25814348e-02, -2.17997637e-02, -1.76727504e-01, -2.61971295e-01,\n",
       "        -2.55688637e-01, -3.17386210e-01, -1.79038923e-02,  7.26540908e-02,\n",
       "        -3.29998195e-01, -7.37480894e-02, -1.13267072e-01,  3.15684438e-01,\n",
       "        -3.22819531e-01,  6.34734170e-04, -1.90024942e-01,  1.00579180e-01,\n",
       "         1.76204368e-01, -2.10620370e-02,  3.93663794e-01, -3.03314738e-02,\n",
       "        -2.30229273e-02,  1.51346847e-01, -6.66378289e-02,  8.59554335e-02,\n",
       "         5.09550683e-02,  6.52265772e-02,  2.03399867e-01, -3.17430273e-02,\n",
       "        -2.84028854e-02,  5.01333594e-01,  1.24934204e-01,  2.52748072e-01,\n",
       "        -6.96508959e-02, -5.12294769e-02,  1.05031438e-01, -1.39081374e-01,\n",
       "         3.53758633e-01,  2.50037730e-01,  1.37451932e-01, -1.21924445e-01,\n",
       "        -3.15922536e-02, -1.25776634e-01, -6.79785311e-02, -4.10525262e-01,\n",
       "        -2.20116511e-01,  9.63704735e-02, -7.32901096e-02,  3.40503186e-01,\n",
       "         1.40629869e-04, -4.14207904e-03, -7.20866024e-02,  4.18208063e-01,\n",
       "         3.07222418e-02, -1.11671567e-01,  1.98164776e-01,  8.41823146e-02,\n",
       "         1.85440913e-01, -2.59342521e-01, -4.87952977e-02, -1.89161245e-02,\n",
       "        -2.59003758e-01, -2.70726740e-01,  4.18799579e-01,  1.77746281e-01,\n",
       "        -2.68956512e-01,  2.06487700e-01, -2.48205394e-01,  1.65359274e-01,\n",
       "        -1.00885540e-01, -6.19016290e-02, -8.94921720e-02,  3.67403060e-01,\n",
       "        -1.18087612e-01, -1.19044967e-02,  7.60646611e-02,  3.11210513e-01,\n",
       "         3.51077169e-02,  2.52486132e-02,  8.64763483e-02,  1.19996220e-01,\n",
       "         3.16727012e-01, -1.84763774e-01, -7.23784938e-02, -1.43325061e-01,\n",
       "        -9.45246518e-02, -9.95668843e-02,  6.99324533e-02, -2.67652661e-01,\n",
       "         2.27984861e-02, -3.10027868e-01, -1.44494399e-01,  2.18905851e-01,\n",
       "        -2.91153222e-01,  1.88079670e-01,  1.14839427e-01,  4.10034001e-01,\n",
       "         1.67782143e-01,  1.66149303e-01,  4.11553264e-01, -4.24672276e-01,\n",
       "         1.99848264e-01, -2.05958467e-02,  1.09496050e-01, -7.98573568e-02,\n",
       "         1.67470381e-01, -7.19926655e-02,  6.15205653e-02, -9.80894938e-02,\n",
       "         6.23733446e-04, -1.95149019e-01, -1.71348383e-03,  1.98206753e-02,\n",
       "        -1.07751913e-01,  4.22763713e-02,  2.40885735e-01,  2.10884005e-01,\n",
       "        -7.89280534e-02,  3.07286531e-02, -8.87739286e-02,  2.05311015e-01,\n",
       "        -1.18636802e-01,  1.27498120e-01, -6.42705411e-02, -2.67406493e-01,\n",
       "        -6.54638112e-02, -6.29669502e-02, -4.22134489e-01, -1.41031900e-02,\n",
       "         9.25528109e-02,  1.06291816e-01,  5.25533361e-03,  3.67017031e-01,\n",
       "         3.02489921e-02,  1.55967578e-01, -3.43653619e-01, -1.34328473e-03,\n",
       "        -3.69092017e-01, -1.95653111e-01,  1.20304383e-01,  8.17288533e-02,\n",
       "         8.20821449e-02, -3.31653208e-01,  1.77304015e-01,  2.64490172e-02,\n",
       "         2.41110861e-01,  1.83583170e-01,  2.02101052e-01, -2.89354861e-01,\n",
       "         1.16371177e-01,  1.46659702e-01, -9.35124382e-02,  2.28957646e-02,\n",
       "         1.01702891e-01,  1.98821083e-01, -1.32069200e-01, -1.10561354e-02,\n",
       "        -1.04052186e-01, -2.51677930e-01,  1.00475043e-01, -5.88609464e-03,\n",
       "         1.48900121e-01,  6.24791980e-02,  1.08716987e-01,  6.58207610e-02],\n",
       "       dtype=float32)}"
      ]
     },
     "execution_count": 98,
     "metadata": {},
     "output_type": "execute_result"
    }
   ],
   "source": [
    "emoji_dict_with_vector['🪳']"
   ]
  },
  {
   "cell_type": "code",
   "execution_count": 99,
   "metadata": {},
   "outputs": [],
   "source": [
    "with open('emoji_dict_with_vectors.pkl', 'wb') as file:\n",
    "    pickle.dump(emoji_dict_with_vector, file)\n"
   ]
  },
  {
   "cell_type": "code",
   "execution_count": null,
   "metadata": {},
   "outputs": [],
   "source": [
    "import pickle\n",
    "\n",
    "with open('filename.pkl', 'rb') as file:\n",
    "    loaded_object = pickle.load(file)\n"
   ]
  }
 ],
 "metadata": {
  "kernelspec": {
   "display_name": "emoscope",
   "language": "python",
   "name": "python3"
  },
  "language_info": {
   "codemirror_mode": {
    "name": "ipython",
    "version": 3
   },
   "file_extension": ".py",
   "mimetype": "text/x-python",
   "name": "python",
   "nbconvert_exporter": "python",
   "pygments_lexer": "ipython3",
   "version": "3.11.9"
  }
 },
 "nbformat": 4,
 "nbformat_minor": 2
}
