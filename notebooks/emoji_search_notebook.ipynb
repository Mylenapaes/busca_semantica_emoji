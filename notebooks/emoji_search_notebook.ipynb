{
 "cells": [
  {
   "cell_type": "code",
   "execution_count": 1,
   "metadata": {},
   "outputs": [
    {
     "name": "stderr",
     "output_type": "stream",
     "text": [
      "/home/badr/emojeez/emojeez/lib/python3.11/site-packages/sentence_transformers/cross_encoder/CrossEncoder.py:11: TqdmWarning: IProgress not found. Please update jupyter and ipywidgets. See https://ipywidgets.readthedocs.io/en/stable/user_install.html\n",
      "  from tqdm.autonotebook import tqdm, trange\n"
     ]
    }
   ],
   "source": [
    "import numpy as np\n",
    "import pickle\n",
    "from typing import Dict, List, Any\n",
    "import random\n",
    "from tqdm.notebook import tqdm\n",
    "from sentence_transformers import SentenceTransformer\n",
    "from qdrant_client import models, QdrantClient\n",
    "import emoji as em\n",
    "import warnings\n",
    "\n",
    "warnings.filterwarnings('ignore')"
   ]
  },
  {
   "cell_type": "code",
   "execution_count": 2,
   "metadata": {},
   "outputs": [],
   "source": [
    "# A function to load the emoji dictionary\n",
    "def load_dictionary(file_path: str) -> Dict[str, Dict[str, Any]]:\n",
    "    \"\"\"Load the emoji dictionary from a pickle file.\"\"\"\n",
    "\n",
    "    with open(file_path, 'rb') as file:\n",
    "        emoji_dict = pickle.load(file)\n",
    "    return emoji_dict\n",
    "\n",
    "\n",
    "\n",
    "# A function to load the sentence encoder model\n",
    "def load_encoder(model_name: str) -> SentenceTransformer:\n",
    "    \"\"\"Load a sentence encoder model from Hugging Face Hub.\"\"\"\n",
    "    \n",
    "    sentence_encoder = SentenceTransformer(model_name)\n",
    "    #st.session_state.sentence_encoder = sentence_encoder\n",
    "    return sentence_encoder\n",
    "\n",
    "\n",
    "# A function to load the Qdrant vector DB client\n",
    "def load_qdrant_client(emoji_dict: Dict[str, Dict[str, Any]]) -> QdrantClient:\n",
    "    \"\"\"\n",
    "    Load a Qdrant client and populate the database with embeddings.\n",
    "    \"\"\"\n",
    "    # Setup the Qdrant client and populate the database\n",
    "    vector_DB_client = QdrantClient(\":memory:\")\n",
    "    embedding_dict = {\n",
    "        emoji: np.array(metadata['embedding']) \n",
    "        for emoji, metadata in emoji_dict.items()\n",
    "    }\n",
    "\n",
    "    # Remove the embeddings from the dictionary so it can be used \n",
    "    # as payload in Qdrant\n",
    "    for emoji in list(emoji_dict):\n",
    "        del emoji_dict[emoji]['embedding']\n",
    "\n",
    "    embedding_dim = next(iter(embedding_dict.values())).shape[0]\n",
    "\n",
    "    # Create collection in Qdrant\n",
    "    vector_DB_client.create_collection(\n",
    "        collection_name=\"EMOJIS\",\n",
    "        vectors_config=models.VectorParams(\n",
    "            size=embedding_dim, \n",
    "            distance=models.Distance.COSINE\n",
    "        ),\n",
    "    )\n",
    "\n",
    "    # Upload points to the collection\n",
    "    vector_DB_client.upload_points( \n",
    "        collection_name=\"EMOJIS\",\n",
    "        points=[\n",
    "            models.PointStruct(\n",
    "                id=idx, \n",
    "                vector=embedding_dict[emoji].tolist(),\n",
    "                payload=emoji_dict[emoji]\n",
    "            )\n",
    "            for idx, emoji in enumerate(emoji_dict)\n",
    "        ],\n",
    "    )\n",
    "\n",
    "    #st.session_state.vector_DB_client = vector_DB_client\n",
    "    return vector_DB_client   \n"
   ]
  },
  {
   "cell_type": "code",
   "execution_count": 3,
   "metadata": {},
   "outputs": [],
   "source": [
    "\n",
    "def retrieve_relevant_emojis(\n",
    "        embedding_model: SentenceTransformer,\n",
    "        vector_DB_client: QdrantClient,\n",
    "        query: str, \n",
    "        num_to_retrieve: int) -> List[str]:\n",
    "    \"\"\"\n",
    "    Return similar emojis to the query using the sentence encoder and Qdrant. \n",
    "    \"\"\"\n",
    "\n",
    "    # Embed the query\n",
    "    query_vector = embedding_model.encode(query).tolist()\n",
    "\n",
    "    hits = vector_DB_client.search(\n",
    "        collection_name=\"EMOJIS\",\n",
    "        query_vector=query_vector,\n",
    "        limit=num_to_retrieve,\n",
    "    )\n",
    "\n",
    "    return hits"
   ]
  },
  {
   "cell_type": "code",
   "execution_count": 4,
   "metadata": {},
   "outputs": [],
   "source": [
    "\n",
    "# Load the sentence encoder model\n",
    "model_name = 'paraphrase-multilingual-MiniLM-L12-v2'\n",
    "sentence_encoder = load_encoder(model_name)\n",
    "\n",
    "# Load metadata dictionary\n",
    "embedding_dict = load_dictionary('../data/emoji_embeddings_dict.pkl')\n",
    "\n",
    "# Load the Qdrant client\n",
    "vector_DB_clinet = load_qdrant_client(embedding_dict)   "
   ]
  },
  {
   "cell_type": "code",
   "execution_count": 5,
   "metadata": {},
   "outputs": [],
   "source": [
    "import unicodedata\n",
    "\n",
    "def show_top_10(query: str) -> None:\n",
    "    \"\"\"\n",
    "    Show emojis that are most relevant to the query.\n",
    "    \"\"\"\n",
    "    emojis = retrieve_relevant_emojis(\n",
    "        sentence_encoder, \n",
    "        vector_DB_clinet, \n",
    "        query, \n",
    "        num_to_retrieve=10\n",
    "    )\n",
    "\n",
    "\n",
    "    for i, hit in enumerate(emojis, start=1):\n",
    "        \n",
    "        emoji_char = hit.payload['Emoji']\n",
    "        score = hit.score\n",
    "\n",
    "        _ord = ''\n",
    "        for c in emoji_char:\n",
    "            _ord += str(ord(c)) + ' '\n",
    "\n",
    "        _spec = len(emoji_char) + 3\n",
    "\n",
    "        # the following line does not work for multi-character emojis\n",
    "        #unicode_desc = unicodedata.name(emoji_char, None) \n",
    "        unicode_desc = ' '.join(em.demojize(emoji_char).split('_'))[1:-1].upper()\n",
    "\n",
    "        print(f\"{i:<3} {emoji_char:<{_spec}}\", end='')\n",
    "        print(f\"{score:<7.3f}\", end= '')\n",
    "        print(f\"{unicode_desc:<55}\")"
   ]
  },
  {
   "cell_type": "code",
   "execution_count": 6,
   "metadata": {},
   "outputs": [
    {
     "name": "stdout",
     "output_type": "stream",
     "text": [
      "1   😼   0.651  CAT WITH WRY SMILE                                     \n",
      "2   😸   0.643  GRINNING CAT WITH SMILING EYES                         \n",
      "3   😹   0.611  CAT WITH TEARS OF JOY                                  \n",
      "4   😻   0.603  SMILING CAT WITH HEART-EYES                            \n",
      "5   😺   0.596  GRINNING CAT                                           \n",
      "6   🐱   0.522  CAT FACE                                               \n",
      "7   🐈   0.513  CAT                                                    \n",
      "8   🐈‍⬛   0.495  BLACK CAT                                              \n",
      "9   😽   0.468  KISSING CAT                                            \n",
      "10  🐆   0.452  LEOPARD                                                \n"
     ]
    }
   ],
   "source": [
    "show_top_10('cat smiling')"
   ]
  },
  {
   "cell_type": "code",
   "execution_count": 7,
   "metadata": {},
   "outputs": [
    {
     "name": "stdout",
     "output_type": "stream",
     "text": [
      "1   🧿   0.409  NAZAR AMULET                                           \n",
      "2   👓   0.405  GLASSES                                                \n",
      "3   🥽   0.387  GOGGLES                                                \n",
      "4   👁   0.383  EYE                                                    \n",
      "5   🦹🏻   0.382  SUPERVILLAIN LIGHT SKIN TONE                           \n",
      "6   👀   0.374  EYES                                                   \n",
      "7   🦹🏿   0.370  SUPERVILLAIN DARK SKIN TONE                            \n",
      "8   🛡️   0.369  SHIELD                                                 \n",
      "9   🦹🏼   0.366  SUPERVILLAIN MEDIUM-LIGHT SKIN TONE                    \n",
      "10  🦹🏻‍♂   0.364  MAN SUPERVILLAIN LIGHT SKIN TONE                       \n"
     ]
    }
   ],
   "source": [
    "show_top_10('protect from evil eye')"
   ]
  },
  {
   "cell_type": "code",
   "execution_count": 8,
   "metadata": {},
   "outputs": [
    {
     "name": "stdout",
     "output_type": "stream",
     "text": [
      "1   🧿   0.442  NAZAR AMULET                                           \n",
      "2   👓   0.430  GLASSES                                                \n",
      "3   👁   0.414  EYE                                                    \n",
      "4   🥽   0.403  GOGGLES                                                \n",
      "5   👀   0.403  EYES                                                   \n",
      "6   🦹🏻   0.398  SUPERVILLAIN LIGHT SKIN TONE                           \n",
      "7   🙈   0.394  SEE-NO-EVIL MONKEY                                     \n",
      "8   🫣   0.387  FACE WITH PEEKING EYE                                  \n",
      "9   🧛🏻   0.385  VAMPIRE LIGHT SKIN TONE                                \n",
      "10  🦹🏼   0.383  SUPERVILLAIN MEDIUM-LIGHT SKIN TONE                    \n"
     ]
    }
   ],
   "source": [
    "show_top_10('يحمي من العين الشريرة')"
   ]
  },
  {
   "cell_type": "code",
   "execution_count": 9,
   "metadata": {},
   "outputs": [
    {
     "name": "stdout",
     "output_type": "stream",
     "text": [
      "1   😷   0.369  FACE WITH MEDICAL MASK                                 \n",
      "2   🫣   0.364  FACE WITH PEEKING EYE                                  \n",
      "3   🛡️   0.360  SHIELD                                                 \n",
      "4   🙈   0.359  SEE-NO-EVIL MONKEY                                     \n",
      "5   👀   0.353  EYES                                                   \n",
      "6   🙉   0.350  HEAR-NO-EVIL MONKEY                                    \n",
      "7   👁   0.346  EYE                                                    \n",
      "8   🧿   0.345  NAZAR AMULET                                           \n",
      "9   💂🏿‍♀️   0.345  WOMAN GUARD DARK SKIN TONE                             \n",
      "10  💂🏿‍♀   0.345  WOMAN GUARD DARK SKIN TONE                             \n"
     ]
    }
   ],
   "source": [
    "show_top_10('Vor dem bösen Blick schützen') # Deutsch "
   ]
  },
  {
   "cell_type": "code",
   "execution_count": 10,
   "metadata": {},
   "outputs": [
    {
     "name": "stdout",
     "output_type": "stream",
     "text": [
      "1   👓   0.497  GLASSES                                                \n",
      "2   🥽   0.484  GOGGLES                                                \n",
      "3   👁   0.452  EYE                                                    \n",
      "4   🕶️   0.430  SUNGLASSES                                             \n",
      "5   🕶   0.430  SUNGLASSES                                             \n",
      "6   👀   0.429  EYES                                                   \n",
      "7   👁️   0.415  EYE                                                    \n",
      "8   🧿   0.411  NAZAR AMULET                                           \n",
      "9   🫣   0.404  FACE WITH PEEKING EYE                                  \n",
      "10  😷   0.391  FACE WITH MEDICAL MASK                                 \n"
     ]
    }
   ],
   "source": [
    "show_top_10('Προστατέψτε από το κακό μάτι')"
   ]
  },
  {
   "cell_type": "code",
   "execution_count": 11,
   "metadata": {},
   "outputs": [
    {
     "name": "stdout",
     "output_type": "stream",
     "text": [
      "1   👓   0.475  GLASSES                                                \n",
      "2   🥽   0.452  GOGGLES                                                \n",
      "3   👁   0.448  EYE                                                    \n",
      "4   👀   0.418  EYES                                                   \n",
      "5   👁️   0.412  EYE                                                    \n",
      "6   🫣   0.397  FACE WITH PEEKING EYE                                  \n",
      "7   🕶️   0.387  SUNGLASSES                                             \n",
      "8   🕶   0.387  SUNGLASSES                                             \n",
      "9   😝   0.375  SQUINTING FACE WITH TONGUE                             \n",
      "10  🧿   0.373  NAZAR AMULET                                           \n"
     ]
    }
   ],
   "source": [
    "show_top_10('Защитете от лошото око')"
   ]
  },
  {
   "cell_type": "code",
   "execution_count": 12,
   "metadata": {},
   "outputs": [
    {
     "name": "stdout",
     "output_type": "stream",
     "text": [
      "1   👓   0.425  GLASSES                                                \n",
      "2   🥽   0.397  GOGGLES                                                \n",
      "3   👁   0.392  EYE                                                    \n",
      "4   🧿   0.383  NAZAR AMULET                                           \n",
      "5   👀   0.380  EYES                                                   \n",
      "6   🙈   0.370  SEE-NO-EVIL MONKEY                                     \n",
      "7   😷   0.369  FACE WITH MEDICAL MASK                                 \n",
      "8   🕶️   0.363  SUNGLASSES                                             \n",
      "9   🕶   0.363  SUNGLASSES                                             \n",
      "10  🫣   0.360  FACE WITH PEEKING EYE                                  \n"
     ]
    }
   ],
   "source": [
    "show_top_10('防止邪眼')"
   ]
  },
  {
   "cell_type": "code",
   "execution_count": 13,
   "metadata": {},
   "outputs": [
    {
     "name": "stdout",
     "output_type": "stream",
     "text": [
      "1   🙈   0.379  SEE-NO-EVIL MONKEY                                     \n",
      "2   🧿   0.379  NAZAR AMULET                                           \n",
      "3   🙉   0.370  HEAR-NO-EVIL MONKEY                                    \n",
      "4   😷   0.363  FACE WITH MEDICAL MASK                                 \n",
      "5   🙊   0.363  SPEAK-NO-EVIL MONKEY                                   \n",
      "6   🫣   0.355  FACE WITH PEEKING EYE                                  \n",
      "7   🛡️   0.355  SHIELD                                                 \n",
      "8   👁   0.351  EYE                                                    \n",
      "9   🦹🏼   0.350  SUPERVILLAIN MEDIUM-LIGHT SKIN TONE                    \n",
      "10  👓   0.350  GLASSES                                                \n"
     ]
    }
   ],
   "source": [
    "show_top_10('邪眼から守る')"
   ]
  },
  {
   "cell_type": "code",
   "execution_count": null,
   "metadata": {},
   "outputs": [],
   "source": []
  }
 ],
 "metadata": {
  "kernelspec": {
   "display_name": "emoscope",
   "language": "python",
   "name": "python3"
  },
  "language_info": {
   "codemirror_mode": {
    "name": "ipython",
    "version": 3
   },
   "file_extension": ".py",
   "mimetype": "text/x-python",
   "name": "python",
   "nbconvert_exporter": "python",
   "pygments_lexer": "ipython3",
   "version": "3.11.5"
  }
 },
 "nbformat": 4,
 "nbformat_minor": 2
}
