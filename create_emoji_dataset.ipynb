{
 "cells": [
  {
   "cell_type": "code",
   "execution_count": 51,
   "metadata": {},
   "outputs": [],
   "source": [
    "#!/usr/bin/env python3\n",
    "import sys\n",
    "import unicodedata\n",
    "\n",
    "import pandas as pd\n",
    "\n",
    "from typing import List, Dict, Any, Tuple, Union\n",
    "\n",
    "import requests\n",
    "from bs4 import BeautifulSoup\n",
    "\n",
    "from datasets import Dataset"
   ]
  },
  {
   "cell_type": "code",
   "execution_count": 43,
   "metadata": {},
   "outputs": [
    {
     "name": "stdout",
     "output_type": "stream",
     "text": [
      "{'emoji': '🇾🇪', 'unicode': '0x1F1FE 0x1F1EA', 'name': 'Yemen'}\n"
     ]
    }
   ],
   "source": [
    "def fetch_flag_data(url: str) -> Dict[str, Dict[str, str]]:\n",
    "    \"\"\"\n",
    "    Extract all the flag data from the given URL using BeautifulSoup\n",
    "    \"\"\"\n",
    "    response = requests.get(url)\n",
    "    soup = BeautifulSoup(response.content, 'html.parser')\n",
    "\n",
    "    # Assuming the page structure, modify selectors accordingly\n",
    "    rows = soup.find_all('tr')\n",
    "    iso2country = {}\n",
    "\n",
    "    for row in rows:\n",
    "        cells = row.find_all('td')\n",
    "        if len(cells) > 2:  # Check if row has sufficient cells\n",
    "            code = cells[0].text.strip()\n",
    "            country_emoji = cells[1].text.strip()\n",
    "            unicode = cells[2].text.strip().replace('U+', '0x')\n",
    "            country_name = cells[3].text.strip()\n",
    "\n",
    "            if all((code, country_emoji, unicode)):\n",
    "                iso2country[code] = {\n",
    "                    'emoji': country_emoji,\n",
    "                    'unicode': unicode, \n",
    "                    'name': country_name\n",
    "                }\n",
    "\n",
    "    return iso2country\n",
    "\n",
    "# extract flag emojis\n",
    "emoji_url = 'https://apps.timwhitlock.info/emoji/tables/iso3166'\n",
    "iso2country = fetch_flag_data(emoji_url)\n",
    "\n",
    "print(iso2country['YE'])\n"
   ]
  },
  {
   "cell_type": "code",
   "execution_count": 44,
   "metadata": {},
   "outputs": [],
   "source": [
    "def get_country_flags() -> List[Dict[str, Union[int, str]]]:\n",
    "    \"\"\"\n",
    "    Generate a list of country flags with their respective Unicode code points\n",
    "    \"\"\"\n",
    "    flags = []\n",
    "    base = 0x1F1E6  # Start of regional indicator symbols\n",
    "\n",
    "    for code1 in range(base, base + 26):  # Loop over A to Z\n",
    "        for code2 in range(base, base + 26):  # Loop over A to Z\n",
    "\n",
    "            flag_char = chr(code1) + chr(code2)\n",
    "            first, second = chr(code1 - base + 65), chr(code2 - base + 65)\n",
    "            country_iso = first + second\n",
    "            if country_iso in iso2country:\n",
    "                country_name = f\"Flag of {iso2country[country_iso]['name']}\" \n",
    "                country_flag = iso2country[country_iso]['emoji']\n",
    "                country_code = ord(flag_char[0]) * 0x10000 + ord(flag_char[1])\n",
    "                \n",
    "\n",
    "                flags.append(\n",
    "                    {\n",
    "                        'code': country_code, \n",
    "                        'hex_code': hex(country_code),\n",
    "                        'char': country_flag, \n",
    "                        'name': country_name.upper()                 \n",
    "                    }\n",
    "                )\n",
    "\n",
    "    return flags"
   ]
  },
  {
   "cell_type": "code",
   "execution_count": 45,
   "metadata": {},
   "outputs": [],
   "source": [
    "\n",
    "def get_standard_emojis():\n",
    "    emojis = []\n",
    "    # Ranges of emojis (excluding country flags)\n",
    "    emoji_ranges = [\n",
    "        (0x1F600, 0x1F64F),  # Emoticons\n",
    "        (0x1F300, 0x1F5FF),  # Miscellaneous Symbols and Pictographs\n",
    "        (0x1F680, 0x1F6FF),  # Transport and Map Symbols\n",
    "        #(0x1F700, 0x1F77F),  # Alchemical Symbols\n",
    "        (0x2600, 0x26FF),    # Miscellaneous Symbols\n",
    "        (0x2700, 0x27BF),    # Dingbats\n",
    "        #(0x2B50, 0x2BFF),    # Additional symbols\n",
    "    ]\n",
    "\n",
    "    for start, end in emoji_ranges:\n",
    "        for code in range(start, end + 1):\n",
    "            try:\n",
    "                char = chr(code)\n",
    "                name = unicodedata.name(char)\n",
    "                emojis.append(\n",
    "                    {\n",
    "                        'code': ord(char),\n",
    "                        'hex_code': hex(ord(char)),\n",
    "                        'char': char,\n",
    "                        'name': name.upper() # + '.' 'This is an emoji that represents a ' + \n",
    "                    }\n",
    "                )\n",
    "            except ValueError:\n",
    "                continue\n",
    "    return emojis"
   ]
  },
  {
   "cell_type": "code",
   "execution_count": 46,
   "metadata": {},
   "outputs": [
    {
     "name": "stdout",
     "output_type": "stream",
     "text": [
      "[{'code': 128512, 'hex_code': '0x1f600', 'char': '😀', 'name': 'GRINNING FACE'}, {'code': 128513, 'hex_code': '0x1f601', 'char': '😁', 'name': 'GRINNING FACE WITH SMILING EYES'}, {'code': 128514, 'hex_code': '0x1f602', 'char': '😂', 'name': 'FACE WITH TEARS OF JOY'}, {'code': 128515, 'hex_code': '0x1f603', 'char': '😃', 'name': 'SMILING FACE WITH OPEN MOUTH'}, {'code': 128516, 'hex_code': '0x1f604', 'char': '😄', 'name': 'SMILING FACE WITH OPEN MOUTH AND SMILING EYES'}]\n"
     ]
    }
   ],
   "source": [
    "# combine all emojis and flags into one list\n",
    "emojis = get_standard_emojis() + get_country_flags()\n",
    "\n",
    "# print the first few for demonstration\n",
    "print(emojis[:5]) "
   ]
  },
  {
   "cell_type": "code",
   "execution_count": 47,
   "metadata": {},
   "outputs": [
    {
     "name": "stdout",
     "output_type": "stream",
     "text": [
      "[{'code': 8355049962, 'hex_code': '0x1f1fff1ea', 'char': '🇾🇪', 'name': 'FLAG OF YEMEN'}, {'code': 8355049977, 'hex_code': '0x1f1fff1f9', 'char': '🇾🇹', 'name': 'FLAG OF MAYOTTE'}, {'code': 8355115494, 'hex_code': '0x1f200f1e6', 'char': '🇿🇦', 'name': 'FLAG OF SOUTH AFRICA'}, {'code': 8355115506, 'hex_code': '0x1f200f1f2', 'char': '🇿🇲', 'name': 'FLAG OF ZAMBIA'}, {'code': 8355115516, 'hex_code': '0x1f200f1fc', 'char': '🇿🇼', 'name': 'FLAG OF ZIMBABWE'}]\n"
     ]
    }
   ],
   "source": [
    "# print the first few for demonstration\n",
    "print(emojis[-5:]) "
   ]
  },
  {
   "cell_type": "code",
   "execution_count": 48,
   "metadata": {},
   "outputs": [
    {
     "data": {
      "text/plain": [
       "{'code': 128512, 'hex_code': '0x1f600', 'char': '😀', 'name': 'GRINNING FACE'}"
      ]
     },
     "execution_count": 48,
     "metadata": {},
     "output_type": "execute_result"
    }
   ],
   "source": [
    "emojis[0]"
   ]
  },
  {
   "cell_type": "code",
   "execution_count": 49,
   "metadata": {},
   "outputs": [
    {
     "data": {
      "text/plain": [
       "{'code': 8355115516,\n",
       " 'hex_code': '0x1f200f1fc',\n",
       " 'char': '🇿🇼',\n",
       " 'name': 'FLAG OF ZIMBABWE'}"
      ]
     },
     "execution_count": 49,
     "metadata": {},
     "output_type": "execute_result"
    }
   ],
   "source": [
    "emojis[-1]"
   ]
  },
  {
   "cell_type": "code",
   "execution_count": 41,
   "metadata": {},
   "outputs": [
    {
     "data": {
      "text/plain": [
       "str"
      ]
     },
     "execution_count": 41,
     "metadata": {},
     "output_type": "execute_result"
    }
   ],
   "source": [
    "type(emojis[0]['hex_code'])"
   ]
  },
  {
   "cell_type": "code",
   "execution_count": 54,
   "metadata": {},
   "outputs": [
    {
     "name": "stdout",
     "output_type": "stream",
     "text": [
      "Dataset({\n",
      "    features: ['code', 'hex_code', 'char', 'name'],\n",
      "    num_rows: 1662\n",
      "})\n"
     ]
    }
   ],
   "source": [
    "\n",
    "# make a Dataset object from the list of emojis\n",
    "\n",
    "# convert the list of dictionaries to a Hugging Face dataset\n",
    "# emoji_dict = {\n",
    "#     index: emoji for index, emoji in enumerate(emojis) \n",
    "# }\n",
    "\n",
    "emoji_dataset = Dataset.from_list(emojis)\n",
    "\n",
    "# print the dataset\n",
    "print(emoji_dataset)\n"
   ]
  },
  {
   "cell_type": "code",
   "execution_count": 56,
   "metadata": {},
   "outputs": [
    {
     "data": {
      "text/plain": [
       "{'code': 128512, 'hex_code': '0x1f600', 'char': '😀', 'name': 'GRINNING FACE'}"
      ]
     },
     "execution_count": 56,
     "metadata": {},
     "output_type": "execute_result"
    }
   ],
   "source": [
    "emoji_dataset[0]"
   ]
  },
  {
   "cell_type": "code",
   "execution_count": 57,
   "metadata": {},
   "outputs": [
    {
     "data": {
      "application/vnd.jupyter.widget-view+json": {
       "model_id": "3f98f3c4f39647fa9fae194ffd912313",
       "version_major": 2,
       "version_minor": 0
      },
      "text/plain": [
       "Uploading the dataset shards:   0%|          | 0/1 [00:00<?, ?it/s]"
      ]
     },
     "metadata": {},
     "output_type": "display_data"
    },
    {
     "data": {
      "application/vnd.jupyter.widget-view+json": {
       "model_id": "867c5d52818c47da83bcdbcf9508e915",
       "version_major": 2,
       "version_minor": 0
      },
      "text/plain": [
       "Creating parquet from Arrow format:   0%|          | 0/2 [00:00<?, ?ba/s]"
      ]
     },
     "metadata": {},
     "output_type": "display_data"
    },
    {
     "data": {
      "text/plain": [
       "CommitInfo(commit_url='https://huggingface.co/datasets/badrabdullah/emoji-dataset/commit/5f2510b8670db8cb8699ac23ea7fee8ee54d042e', commit_message='Upload dataset', commit_description='', oid='5f2510b8670db8cb8699ac23ea7fee8ee54d042e', pr_url=None, pr_revision=None, pr_num=None)"
      ]
     },
     "execution_count": 57,
     "metadata": {},
     "output_type": "execute_result"
    }
   ],
   "source": [
    "# push the dataset to the Hugging Face Model Hub\n",
    "emoji_dataset.push_to_hub(\"badrabdullah/emoji-dataset\")"
   ]
  },
  {
   "cell_type": "code",
   "execution_count": null,
   "metadata": {},
   "outputs": [],
   "source": []
  }
 ],
 "metadata": {
  "kernelspec": {
   "display_name": "emoscope",
   "language": "python",
   "name": "python3"
  },
  "language_info": {
   "codemirror_mode": {
    "name": "ipython",
    "version": 3
   },
   "file_extension": ".py",
   "mimetype": "text/x-python",
   "name": "python",
   "nbconvert_exporter": "python",
   "pygments_lexer": "ipython3",
   "version": "3.11.9"
  }
 },
 "nbformat": 4,
 "nbformat_minor": 2
}
