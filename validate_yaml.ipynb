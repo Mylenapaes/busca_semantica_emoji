{
 "cells": [
  {
   "cell_type": "code",
   "execution_count": 1,
   "metadata": {},
   "outputs": [],
   "source": [
    "import numpy as np\n",
    "from collections import defaultdict, Counter, OrderedDict\n",
    "import pickle\n",
    "import yaml, json\n",
    "from schema import Schema, And, Use, Any, Optional, SchemaError\n",
    "\n",
    "from tqdm.notebook import tqdm"
   ]
  },
  {
   "cell_type": "code",
   "execution_count": 7,
   "metadata": {},
   "outputs": [],
   "source": [
    "file_path = 'emoji2LLMstr.pkl'\n",
    "\n",
    "# read dictionary from the file\n",
    "with open(file_path, \"rb\") as file:\n",
    "    emoji2desc = pickle.load(file)"
   ]
  },
  {
   "cell_type": "code",
   "execution_count": 9,
   "metadata": {},
   "outputs": [
    {
     "name": "stdout",
     "output_type": "stream",
     "text": [
      "```yaml\n",
      "Emoji: \"🧟\"\n",
      "Description: \"This emoji represents a zombie, a fictional undead creature often depicted in popular culture as a reanimated corpse with a hunger for human flesh, typically used in a humorous or scary context.\"\n",
      "Semantic_Tags:\n",
      "  - zombie\n",
      "  - undead\n",
      "  - horror\n",
      "  - fiction\n",
      "  - scary\n",
      "  - reanimated\n",
      "  - creature\n",
      "```\n"
     ]
    }
   ],
   "source": [
    "print(emoji2desc['🧟'])"
   ]
  },
  {
   "cell_type": "code",
   "execution_count": 60,
   "metadata": {},
   "outputs": [
    {
     "data": {
      "application/vnd.jupyter.widget-view+json": {
       "model_id": "22b812e15a274cb0b9db6f4f3faea473",
       "version_major": 2,
       "version_minor": 0
      },
      "text/plain": [
       "  0%|          | 0/5034 [00:00<?, ?it/s]"
      ]
     },
     "metadata": {},
     "output_type": "display_data"
    }
   ],
   "source": [
    "schema = Schema(\n",
    "    {\n",
    "        'Emoji': And(str, lambda s: len(s) > 0),\n",
    "        'Description': And(str, lambda s: len(s) > 0),\n",
    "        'Semantic_Tags': And(\n",
    "            list, \n",
    "            lambda tags: all(\n",
    "                isinstance(tag, str) for tag in tags\n",
    "            )\n",
    "        ),\n",
    "    }\n",
    ")\n",
    "\n",
    "\n",
    "def is_valid_yaml(yaml_str):\n",
    "    try:\n",
    "        schema.validate(yaml_str)\n",
    "        return True #print(\"Data is valid according to the schema.\")\n",
    "        \n",
    "    except Exception as e:\n",
    "        #print(\"Data is not valid according to the schema:\", str(e))\n",
    "        return False\n",
    "\n",
    "emoji2dict = {}\n",
    "\n",
    "for emoji, yaml_str in tqdm(emoji2desc.items()):\n",
    "    \n",
    "    init_str = '```yaml\\n'\n",
    "    final_str = '```\\n'\n",
    "\n",
    "    yaml_str = yaml_str[len(init_str):-len(final_str)].strip()\n",
    "\n",
    "    try:\n",
    "        emoji2dict[emoji] = yaml.safe_load(yaml_str)\n",
    "\n",
    "    except Exception as e:\n",
    "        print(f\"{emoji} did not parse!\")"
   ]
  },
  {
   "cell_type": "code",
   "execution_count": 61,
   "metadata": {},
   "outputs": [],
   "source": [
    "# for e, d in emoji2dict.items():\n",
    "#     if not is_valid_yaml(d):\n",
    "#         print(f\"{e} is not valid!\")\n",
    "#         print(d)\n",
    "#         print()"
   ]
  },
  {
   "cell_type": "code",
   "execution_count": 62,
   "metadata": {},
   "outputs": [],
   "source": [
    "\n",
    "file_path = 'emoji2dict.pkl'\n",
    "\n",
    "# Write the dictionary into a pickled object\n",
    "with open(file_path, 'wb') as file:\n",
    "    pickle.dump(emoji2dict, file)\n"
   ]
  },
  {
   "cell_type": "code",
   "execution_count": null,
   "metadata": {},
   "outputs": [],
   "source": []
  }
 ],
 "metadata": {
  "kernelspec": {
   "display_name": "emoscope",
   "language": "python",
   "name": "python3"
  },
  "language_info": {
   "codemirror_mode": {
    "name": "ipython",
    "version": 3
   },
   "file_extension": ".py",
   "mimetype": "text/x-python",
   "name": "python",
   "nbconvert_exporter": "python",
   "pygments_lexer": "ipython3",
   "version": "3.11.9"
  }
 },
 "nbformat": 4,
 "nbformat_minor": 2
}
